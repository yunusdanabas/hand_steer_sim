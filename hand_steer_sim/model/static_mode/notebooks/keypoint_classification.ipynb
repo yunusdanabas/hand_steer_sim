{
  "cells": [
    {
      "cell_type": "code",
      "execution_count": 1,
      "metadata": {
        "id": "igMyGnjE9hEp"
      },
      "outputs": [
        {
          "name": "stderr",
          "output_type": "stream",
          "text": [
            "2025-04-26 21:24:13.060869: I tensorflow/tsl/cuda/cudart_stub.cc:28] Could not find cuda drivers on your machine, GPU will not be used.\n",
            "2025-04-26 21:24:13.104945: I tensorflow/tsl/cuda/cudart_stub.cc:28] Could not find cuda drivers on your machine, GPU will not be used.\n",
            "2025-04-26 21:24:13.105837: I tensorflow/core/platform/cpu_feature_guard.cc:182] This TensorFlow binary is optimized to use available CPU instructions in performance-critical operations.\n",
            "To enable the following instructions: AVX2 FMA, in other operations, rebuild TensorFlow with the appropriate compiler flags.\n",
            "2025-04-26 21:24:14.012108: W tensorflow/compiler/tf2tensorrt/utils/py_utils.cc:38] TF-TRT Warning: Could not find TensorRT\n"
          ]
        }
      ],
      "source": [
        "import csv\n",
        "import numpy as np\n",
        "import tensorflow as tf\n",
        "from sklearn.model_selection import train_test_split\n",
        "\n",
        "RANDOM_SEED = 42"
      ]
    },
    {
      "cell_type": "markdown",
      "metadata": {
        "id": "t2HDvhIu9hEr"
      },
      "source": [
        "# Specify each path"
      ]
    },
    {
      "cell_type": "code",
      "execution_count": 2,
      "metadata": {},
      "outputs": [],
      "source": [
        "base_path = '/home/yunusdanabas/catkin_ws/src/hand_steer_sim'"
      ]
    },
    {
      "cell_type": "code",
      "execution_count": 3,
      "metadata": {},
      "outputs": [],
      "source": [
        "dataset = f'{base_path}/hand_steer_sim/model/static_mode/keypoint_classifier/keypoint.csv'\n",
        "model_save_path = f'{base_path}/hand_steer_sim/model/static_mode/keypoint_classifier/keypoint_classifier.hdf5'\n",
        "tflite_save_path = f'{base_path}/hand_steer_sim/model/static_mode/keypoint_classifier/keypoint_classifier.tflite'"
      ]
    },
    {
      "cell_type": "markdown",
      "metadata": {
        "id": "s5oMH7x19hEz"
      },
      "source": [
        "# Set number of classes"
      ]
    },
    {
      "cell_type": "code",
      "execution_count": 4,
      "metadata": {
        "id": "du4kodXL9hEz"
      },
      "outputs": [],
      "source": [
        "NUM_CLASSES = 6"
      ]
    },
    {
      "cell_type": "markdown",
      "metadata": {
        "id": "XjnL0uso9hEz"
      },
      "source": [
        "# Dataset reading"
      ]
    },
    {
      "cell_type": "code",
      "execution_count": 5,
      "metadata": {
        "id": "QT5ZqtEz9hE0"
      },
      "outputs": [],
      "source": [
        "X_dataset = np.loadtxt(dataset, delimiter=',', dtype='float32', usecols=list(range(1, (21 * 2) + 1)))"
      ]
    },
    {
      "cell_type": "code",
      "execution_count": 6,
      "metadata": {
        "id": "QmoKFsp49hE0"
      },
      "outputs": [],
      "source": [
        "y_dataset = np.loadtxt(dataset, delimiter=',', dtype='int32', usecols=(0))"
      ]
    },
    {
      "cell_type": "code",
      "execution_count": 7,
      "metadata": {
        "id": "xQU7JTZ_9hE0"
      },
      "outputs": [],
      "source": [
        "X_train, X_test, y_train, y_test = train_test_split(X_dataset, y_dataset, train_size=0.75, random_state=RANDOM_SEED)"
      ]
    },
    {
      "cell_type": "markdown",
      "metadata": {
        "id": "mxK_lETT9hE0"
      },
      "source": [
        "# Model building"
      ]
    },
    {
      "cell_type": "code",
      "execution_count": 8,
      "metadata": {
        "id": "vHBmUf1t9hE1"
      },
      "outputs": [],
      "source": [
        "model = tf.keras.models.Sequential([\n",
        "    tf.keras.layers.Input((21 * 2, )),\n",
        "    tf.keras.layers.Dropout(0.2),\n",
        "    tf.keras.layers.Dense(20, activation='relu'),\n",
        "    tf.keras.layers.Dropout(0.4),\n",
        "    tf.keras.layers.Dense(10, activation='relu'),\n",
        "    tf.keras.layers.Dense(NUM_CLASSES, activation='softmax')\n",
        "])"
      ]
    },
    {
      "cell_type": "code",
      "execution_count": 9,
      "metadata": {
        "colab": {
          "base_uri": "https://localhost:8080/"
        },
        "id": "ypqky9tc9hE1",
        "outputId": "5db082bb-30e3-4110-bf63-a1ee777ecd46"
      },
      "outputs": [
        {
          "name": "stdout",
          "output_type": "stream",
          "text": [
            "Model: \"sequential\"\n",
            "_________________________________________________________________\n",
            " Layer (type)                Output Shape              Param #   \n",
            "=================================================================\n",
            " dropout (Dropout)           (None, 42)                0         \n",
            "                                                                 \n",
            " dense (Dense)               (None, 20)                860       \n",
            "                                                                 \n",
            " dropout_1 (Dropout)         (None, 20)                0         \n",
            "                                                                 \n",
            " dense_1 (Dense)             (None, 10)                210       \n",
            "                                                                 \n",
            " dense_2 (Dense)             (None, 6)                 66        \n",
            "                                                                 \n",
            "=================================================================\n",
            "Total params: 1136 (4.44 KB)\n",
            "Trainable params: 1136 (4.44 KB)\n",
            "Non-trainable params: 0 (0.00 Byte)\n",
            "_________________________________________________________________\n"
          ]
        }
      ],
      "source": [
        "model.summary()  # tf.keras.utils.plot_model(model, show_shapes=True)"
      ]
    },
    {
      "cell_type": "code",
      "execution_count": 10,
      "metadata": {
        "id": "MbMjOflQ9hE1"
      },
      "outputs": [],
      "source": [
        "# Model checkpoint callback\n",
        "cp_callback = tf.keras.callbacks.ModelCheckpoint(\n",
        "    model_save_path, verbose=1, save_weights_only=False)\n",
        "# Callback for early stopping\n",
        "es_callback = tf.keras.callbacks.EarlyStopping(patience=20, verbose=1)"
      ]
    },
    {
      "cell_type": "code",
      "execution_count": 11,
      "metadata": {
        "id": "c3Dac0M_9hE2"
      },
      "outputs": [],
      "source": [
        "# Model compilation\n",
        "model.compile(\n",
        "    optimizer='adam',\n",
        "    loss='sparse_categorical_crossentropy',\n",
        "    metrics=['accuracy']\n",
        ")"
      ]
    },
    {
      "cell_type": "markdown",
      "metadata": {
        "id": "7XI0j1Iu9hE2"
      },
      "source": [
        "# Model training"
      ]
    },
    {
      "cell_type": "code",
      "execution_count": 12,
      "metadata": {
        "colab": {
          "base_uri": "https://localhost:8080/"
        },
        "id": "WirBl-JE9hE3",
        "outputId": "71b30ca2-8294-4d9d-8aa2-800d90d399de",
        "scrolled": true
      },
      "outputs": [
        {
          "name": "stdout",
          "output_type": "stream",
          "text": [
            "Epoch 1/1000\n",
            " 1/38 [..............................] - ETA: 26s - loss: 1.8995 - accuracy: 0.1719\n",
            "Epoch 1: saving model to /home/yunusdanabas/catkin_ws/src/hand_steer_sim/hand_steer_sim/model/static_mode/keypoint_classifier/keypoint_classifier.hdf5\n",
            "38/38 [==============================] - 1s 11ms/step - loss: 1.7723 - accuracy: 0.2577 - val_loss: 1.6050 - val_accuracy: 0.3462\n",
            "Epoch 2/1000\n",
            " 1/38 [..............................] - ETA: 0s - loss: 1.6449 - accuracy: 0.2812\n",
            "Epoch 2: saving model to /home/yunusdanabas/catkin_ws/src/hand_steer_sim/hand_steer_sim/model/static_mode/keypoint_classifier/keypoint_classifier.hdf5\n",
            "38/38 [==============================] - 0s 2ms/step - loss: 1.5639 - accuracy: 0.3580 - val_loss: 1.4084 - val_accuracy: 0.4142\n",
            "Epoch 3/1000\n",
            "38/38 [==============================] - ETA: 0s - loss: 1.4207 - accuracy: 0.4040"
          ]
        },
        {
          "name": "stderr",
          "output_type": "stream",
          "text": [
            "/home/yunusdanabas/mambaforge/envs/ros_env/lib/python3.8/site-packages/keras/src/engine/training.py:3000: UserWarning: You are saving your model as an HDF5 file via `model.save()`. This file format is considered legacy. We recommend using instead the native Keras format, e.g. `model.save('my_model.keras')`.\n",
            "  saving_api.save_model(\n"
          ]
        },
        {
          "name": "stdout",
          "output_type": "stream",
          "text": [
            "\n",
            "Epoch 3: saving model to /home/yunusdanabas/catkin_ws/src/hand_steer_sim/hand_steer_sim/model/static_mode/keypoint_classifier/keypoint_classifier.hdf5\n",
            "38/38 [==============================] - 0s 3ms/step - loss: 1.4207 - accuracy: 0.4040 - val_loss: 1.2157 - val_accuracy: 0.5421\n",
            "Epoch 4/1000\n",
            " 1/38 [..............................] - ETA: 0s - loss: 1.2919 - accuracy: 0.4688\n",
            "Epoch 4: saving model to /home/yunusdanabas/catkin_ws/src/hand_steer_sim/hand_steer_sim/model/static_mode/keypoint_classifier/keypoint_classifier.hdf5\n",
            "38/38 [==============================] - 0s 2ms/step - loss: 1.2765 - accuracy: 0.4541 - val_loss: 1.0562 - val_accuracy: 0.6170\n",
            "Epoch 5/1000\n",
            " 1/38 [..............................] - ETA: 0s - loss: 1.2818 - accuracy: 0.4219\n",
            "Epoch 5: saving model to /home/yunusdanabas/catkin_ws/src/hand_steer_sim/hand_steer_sim/model/static_mode/keypoint_classifier/keypoint_classifier.hdf5\n",
            "38/38 [==============================] - 0s 3ms/step - loss: 1.1631 - accuracy: 0.5061 - val_loss: 0.9332 - val_accuracy: 0.7274\n",
            "Epoch 6/1000\n",
            " 1/38 [..............................] - ETA: 0s - loss: 1.0328 - accuracy: 0.5234\n",
            "Epoch 6: saving model to /home/yunusdanabas/catkin_ws/src/hand_steer_sim/hand_steer_sim/model/static_mode/keypoint_classifier/keypoint_classifier.hdf5\n",
            "38/38 [==============================] - 0s 2ms/step - loss: 1.0793 - accuracy: 0.5407 - val_loss: 0.8481 - val_accuracy: 0.7392\n",
            "Epoch 7/1000\n",
            " 1/38 [..............................] - ETA: 0s - loss: 1.1758 - accuracy: 0.5234\n",
            "Epoch 7: saving model to /home/yunusdanabas/catkin_ws/src/hand_steer_sim/hand_steer_sim/model/static_mode/keypoint_classifier/keypoint_classifier.hdf5\n",
            "38/38 [==============================] - 0s 3ms/step - loss: 1.0148 - accuracy: 0.5821 - val_loss: 0.7757 - val_accuracy: 0.8166\n",
            "Epoch 8/1000\n",
            " 1/38 [..............................] - ETA: 0s - loss: 0.9969 - accuracy: 0.6016\n",
            "Epoch 8: saving model to /home/yunusdanabas/catkin_ws/src/hand_steer_sim/hand_steer_sim/model/static_mode/keypoint_classifier/keypoint_classifier.hdf5\n",
            "38/38 [==============================] - 0s 2ms/step - loss: 0.9628 - accuracy: 0.6085 - val_loss: 0.7123 - val_accuracy: 0.8465\n",
            "Epoch 9/1000\n",
            "38/38 [==============================] - ETA: 0s - loss: 0.8993 - accuracy: 0.6586\n",
            "Epoch 9: saving model to /home/yunusdanabas/catkin_ws/src/hand_steer_sim/hand_steer_sim/model/static_mode/keypoint_classifier/keypoint_classifier.hdf5\n",
            "38/38 [==============================] - 0s 3ms/step - loss: 0.8993 - accuracy: 0.6586 - val_loss: 0.6462 - val_accuracy: 0.8634\n",
            "Epoch 10/1000\n",
            "36/38 [===========================>..] - ETA: 0s - loss: 0.8780 - accuracy: 0.6699\n",
            "Epoch 10: saving model to /home/yunusdanabas/catkin_ws/src/hand_steer_sim/hand_steer_sim/model/static_mode/keypoint_classifier/keypoint_classifier.hdf5\n",
            "38/38 [==============================] - 0s 3ms/step - loss: 0.8797 - accuracy: 0.6688 - val_loss: 0.6010 - val_accuracy: 0.8746\n",
            "Epoch 11/1000\n",
            "32/38 [========================>.....] - ETA: 0s - loss: 0.8290 - accuracy: 0.6890\n",
            "Epoch 11: saving model to /home/yunusdanabas/catkin_ws/src/hand_steer_sim/hand_steer_sim/model/static_mode/keypoint_classifier/keypoint_classifier.hdf5\n",
            "38/38 [==============================] - 0s 3ms/step - loss: 0.8251 - accuracy: 0.6909 - val_loss: 0.5533 - val_accuracy: 0.8821\n",
            "Epoch 12/1000\n",
            " 1/38 [..............................] - ETA: 0s - loss: 0.8519 - accuracy: 0.6719\n",
            "Epoch 12: saving model to /home/yunusdanabas/catkin_ws/src/hand_steer_sim/hand_steer_sim/model/static_mode/keypoint_classifier/keypoint_classifier.hdf5\n",
            "38/38 [==============================] - 0s 2ms/step - loss: 0.7969 - accuracy: 0.7017 - val_loss: 0.5124 - val_accuracy: 0.8883\n",
            "Epoch 13/1000\n",
            " 1/38 [..............................] - ETA: 0s - loss: 0.7997 - accuracy: 0.6641\n",
            "Epoch 13: saving model to /home/yunusdanabas/catkin_ws/src/hand_steer_sim/hand_steer_sim/model/static_mode/keypoint_classifier/keypoint_classifier.hdf5\n",
            "38/38 [==============================] - 0s 2ms/step - loss: 0.7599 - accuracy: 0.7156 - val_loss: 0.4763 - val_accuracy: 0.8915\n",
            "Epoch 14/1000\n",
            " 1/38 [..............................] - ETA: 0s - loss: 0.7145 - accuracy: 0.7578\n",
            "Epoch 14: saving model to /home/yunusdanabas/catkin_ws/src/hand_steer_sim/hand_steer_sim/model/static_mode/keypoint_classifier/keypoint_classifier.hdf5\n",
            "38/38 [==============================] - 0s 3ms/step - loss: 0.7128 - accuracy: 0.7429 - val_loss: 0.4430 - val_accuracy: 0.8933\n",
            "Epoch 15/1000\n",
            " 1/38 [..............................] - ETA: 0s - loss: 0.6585 - accuracy: 0.7422\n",
            "Epoch 15: saving model to /home/yunusdanabas/catkin_ws/src/hand_steer_sim/hand_steer_sim/model/static_mode/keypoint_classifier/keypoint_classifier.hdf5\n",
            "38/38 [==============================] - 0s 2ms/step - loss: 0.7001 - accuracy: 0.7491 - val_loss: 0.4154 - val_accuracy: 0.8946\n",
            "Epoch 16/1000\n",
            " 1/38 [..............................] - ETA: 0s - loss: 0.6340 - accuracy: 0.7891\n",
            "Epoch 16: saving model to /home/yunusdanabas/catkin_ws/src/hand_steer_sim/hand_steer_sim/model/static_mode/keypoint_classifier/keypoint_classifier.hdf5\n",
            "38/38 [==============================] - 0s 2ms/step - loss: 0.6971 - accuracy: 0.7447 - val_loss: 0.3937 - val_accuracy: 0.9058\n",
            "Epoch 17/1000\n",
            " 1/38 [..............................] - ETA: 0s - loss: 0.7040 - accuracy: 0.7500\n",
            "Epoch 17: saving model to /home/yunusdanabas/catkin_ws/src/hand_steer_sim/hand_steer_sim/model/static_mode/keypoint_classifier/keypoint_classifier.hdf5\n",
            "38/38 [==============================] - 0s 3ms/step - loss: 0.6651 - accuracy: 0.7516 - val_loss: 0.3733 - val_accuracy: 0.9133\n",
            "Epoch 18/1000\n",
            " 1/38 [..............................] - ETA: 0s - loss: 0.5535 - accuracy: 0.7500\n",
            "Epoch 18: saving model to /home/yunusdanabas/catkin_ws/src/hand_steer_sim/hand_steer_sim/model/static_mode/keypoint_classifier/keypoint_classifier.hdf5\n",
            "38/38 [==============================] - 0s 3ms/step - loss: 0.6716 - accuracy: 0.7514 - val_loss: 0.3599 - val_accuracy: 0.9152\n",
            "Epoch 19/1000\n",
            " 1/38 [..............................] - ETA: 0s - loss: 0.6318 - accuracy: 0.7500\n",
            "Epoch 19: saving model to /home/yunusdanabas/catkin_ws/src/hand_steer_sim/hand_steer_sim/model/static_mode/keypoint_classifier/keypoint_classifier.hdf5\n",
            "38/38 [==============================] - 0s 3ms/step - loss: 0.6367 - accuracy: 0.7649 - val_loss: 0.3411 - val_accuracy: 0.9189\n",
            "Epoch 20/1000\n",
            " 1/38 [..............................] - ETA: 0s - loss: 0.6383 - accuracy: 0.7344\n",
            "Epoch 20: saving model to /home/yunusdanabas/catkin_ws/src/hand_steer_sim/hand_steer_sim/model/static_mode/keypoint_classifier/keypoint_classifier.hdf5\n",
            "38/38 [==============================] - 0s 2ms/step - loss: 0.6319 - accuracy: 0.7672 - val_loss: 0.3294 - val_accuracy: 0.9183\n",
            "Epoch 21/1000\n",
            " 1/38 [..............................] - ETA: 0s - loss: 0.6211 - accuracy: 0.7422\n",
            "Epoch 21: saving model to /home/yunusdanabas/catkin_ws/src/hand_steer_sim/hand_steer_sim/model/static_mode/keypoint_classifier/keypoint_classifier.hdf5\n",
            "38/38 [==============================] - 0s 2ms/step - loss: 0.6184 - accuracy: 0.7753 - val_loss: 0.3146 - val_accuracy: 0.9245\n",
            "Epoch 22/1000\n",
            " 1/38 [..............................] - ETA: 0s - loss: 0.4947 - accuracy: 0.8438\n",
            "Epoch 22: saving model to /home/yunusdanabas/catkin_ws/src/hand_steer_sim/hand_steer_sim/model/static_mode/keypoint_classifier/keypoint_classifier.hdf5\n",
            "38/38 [==============================] - 0s 2ms/step - loss: 0.6031 - accuracy: 0.7685 - val_loss: 0.3002 - val_accuracy: 0.9264\n",
            "Epoch 23/1000\n",
            " 1/38 [..............................] - ETA: 0s - loss: 0.6231 - accuracy: 0.7656\n",
            "Epoch 23: saving model to /home/yunusdanabas/catkin_ws/src/hand_steer_sim/hand_steer_sim/model/static_mode/keypoint_classifier/keypoint_classifier.hdf5\n",
            "38/38 [==============================] - 0s 2ms/step - loss: 0.6035 - accuracy: 0.7812 - val_loss: 0.2979 - val_accuracy: 0.9251\n",
            "Epoch 24/1000\n",
            " 1/38 [..............................] - ETA: 0s - loss: 0.5771 - accuracy: 0.7422\n",
            "Epoch 24: saving model to /home/yunusdanabas/catkin_ws/src/hand_steer_sim/hand_steer_sim/model/static_mode/keypoint_classifier/keypoint_classifier.hdf5\n",
            "38/38 [==============================] - 0s 2ms/step - loss: 0.5909 - accuracy: 0.7722 - val_loss: 0.2847 - val_accuracy: 0.9301\n",
            "Epoch 25/1000\n",
            " 1/38 [..............................] - ETA: 0s - loss: 0.5668 - accuracy: 0.7656\n",
            "Epoch 25: saving model to /home/yunusdanabas/catkin_ws/src/hand_steer_sim/hand_steer_sim/model/static_mode/keypoint_classifier/keypoint_classifier.hdf5\n",
            "38/38 [==============================] - 0s 3ms/step - loss: 0.5749 - accuracy: 0.7824 - val_loss: 0.2884 - val_accuracy: 0.9214\n",
            "Epoch 26/1000\n",
            "35/38 [==========================>...] - ETA: 0s - loss: 0.5765 - accuracy: 0.7868\n",
            "Epoch 26: saving model to /home/yunusdanabas/catkin_ws/src/hand_steer_sim/hand_steer_sim/model/static_mode/keypoint_classifier/keypoint_classifier.hdf5\n",
            "38/38 [==============================] - 0s 3ms/step - loss: 0.5773 - accuracy: 0.7870 - val_loss: 0.2718 - val_accuracy: 0.9308\n",
            "Epoch 27/1000\n",
            "37/38 [============================>.] - ETA: 0s - loss: 0.5696 - accuracy: 0.7901\n",
            "Epoch 27: saving model to /home/yunusdanabas/catkin_ws/src/hand_steer_sim/hand_steer_sim/model/static_mode/keypoint_classifier/keypoint_classifier.hdf5\n",
            "38/38 [==============================] - 0s 3ms/step - loss: 0.5701 - accuracy: 0.7897 - val_loss: 0.2692 - val_accuracy: 0.9258\n",
            "Epoch 28/1000\n",
            "36/38 [===========================>..] - ETA: 0s - loss: 0.5618 - accuracy: 0.7910\n",
            "Epoch 28: saving model to /home/yunusdanabas/catkin_ws/src/hand_steer_sim/hand_steer_sim/model/static_mode/keypoint_classifier/keypoint_classifier.hdf5\n",
            "38/38 [==============================] - 0s 3ms/step - loss: 0.5555 - accuracy: 0.7926 - val_loss: 0.2544 - val_accuracy: 0.9345\n",
            "Epoch 29/1000\n",
            " 1/38 [..............................] - ETA: 0s - loss: 0.5291 - accuracy: 0.7734\n",
            "Epoch 29: saving model to /home/yunusdanabas/catkin_ws/src/hand_steer_sim/hand_steer_sim/model/static_mode/keypoint_classifier/keypoint_classifier.hdf5\n",
            "38/38 [==============================] - 0s 3ms/step - loss: 0.5408 - accuracy: 0.7965 - val_loss: 0.2507 - val_accuracy: 0.9295\n",
            "Epoch 30/1000\n",
            " 1/38 [..............................] - ETA: 0s - loss: 0.6605 - accuracy: 0.7344\n",
            "Epoch 30: saving model to /home/yunusdanabas/catkin_ws/src/hand_steer_sim/hand_steer_sim/model/static_mode/keypoint_classifier/keypoint_classifier.hdf5\n",
            "38/38 [==============================] - 0s 3ms/step - loss: 0.5386 - accuracy: 0.7988 - val_loss: 0.2473 - val_accuracy: 0.9289\n",
            "Epoch 31/1000\n",
            " 1/38 [..............................] - ETA: 0s - loss: 0.5017 - accuracy: 0.8281\n",
            "Epoch 31: saving model to /home/yunusdanabas/catkin_ws/src/hand_steer_sim/hand_steer_sim/model/static_mode/keypoint_classifier/keypoint_classifier.hdf5\n",
            "38/38 [==============================] - 0s 3ms/step - loss: 0.5329 - accuracy: 0.8013 - val_loss: 0.2450 - val_accuracy: 0.9270\n",
            "Epoch 32/1000\n",
            " 1/38 [..............................] - ETA: 0s - loss: 0.4927 - accuracy: 0.8047\n",
            "Epoch 32: saving model to /home/yunusdanabas/catkin_ws/src/hand_steer_sim/hand_steer_sim/model/static_mode/keypoint_classifier/keypoint_classifier.hdf5\n",
            "38/38 [==============================] - 0s 3ms/step - loss: 0.5512 - accuracy: 0.7928 - val_loss: 0.2367 - val_accuracy: 0.9364\n",
            "Epoch 33/1000\n",
            " 1/38 [..............................] - ETA: 0s - loss: 0.5857 - accuracy: 0.7812\n",
            "Epoch 33: saving model to /home/yunusdanabas/catkin_ws/src/hand_steer_sim/hand_steer_sim/model/static_mode/keypoint_classifier/keypoint_classifier.hdf5\n",
            "38/38 [==============================] - 0s 3ms/step - loss: 0.5343 - accuracy: 0.8007 - val_loss: 0.2302 - val_accuracy: 0.9376\n",
            "Epoch 34/1000\n",
            "36/38 [===========================>..] - ETA: 0s - loss: 0.5272 - accuracy: 0.8051\n",
            "Epoch 34: saving model to /home/yunusdanabas/catkin_ws/src/hand_steer_sim/hand_steer_sim/model/static_mode/keypoint_classifier/keypoint_classifier.hdf5\n",
            "38/38 [==============================] - 0s 3ms/step - loss: 0.5285 - accuracy: 0.8047 - val_loss: 0.2278 - val_accuracy: 0.9351\n",
            "Epoch 35/1000\n",
            "37/38 [============================>.] - ETA: 0s - loss: 0.5180 - accuracy: 0.8041\n",
            "Epoch 35: saving model to /home/yunusdanabas/catkin_ws/src/hand_steer_sim/hand_steer_sim/model/static_mode/keypoint_classifier/keypoint_classifier.hdf5\n",
            "38/38 [==============================] - 0s 3ms/step - loss: 0.5174 - accuracy: 0.8051 - val_loss: 0.2231 - val_accuracy: 0.9326\n",
            "Epoch 36/1000\n",
            "38/38 [==============================] - ETA: 0s - loss: 0.5255 - accuracy: 0.8067\n",
            "Epoch 36: saving model to /home/yunusdanabas/catkin_ws/src/hand_steer_sim/hand_steer_sim/model/static_mode/keypoint_classifier/keypoint_classifier.hdf5\n",
            "38/38 [==============================] - 0s 3ms/step - loss: 0.5255 - accuracy: 0.8067 - val_loss: 0.2271 - val_accuracy: 0.9314\n",
            "Epoch 37/1000\n",
            " 1/38 [..............................] - ETA: 0s - loss: 0.4651 - accuracy: 0.8359\n",
            "Epoch 37: saving model to /home/yunusdanabas/catkin_ws/src/hand_steer_sim/hand_steer_sim/model/static_mode/keypoint_classifier/keypoint_classifier.hdf5\n",
            "38/38 [==============================] - 0s 3ms/step - loss: 0.5157 - accuracy: 0.8072 - val_loss: 0.2188 - val_accuracy: 0.9345\n",
            "Epoch 38/1000\n",
            "34/38 [=========================>....] - ETA: 0s - loss: 0.5071 - accuracy: 0.8091\n",
            "Epoch 38: saving model to /home/yunusdanabas/catkin_ws/src/hand_steer_sim/hand_steer_sim/model/static_mode/keypoint_classifier/keypoint_classifier.hdf5\n",
            "38/38 [==============================] - 0s 3ms/step - loss: 0.5110 - accuracy: 0.8078 - val_loss: 0.2142 - val_accuracy: 0.9376\n",
            "Epoch 39/1000\n",
            " 1/38 [..............................] - ETA: 0s - loss: 0.5595 - accuracy: 0.8125\n",
            "Epoch 39: saving model to /home/yunusdanabas/catkin_ws/src/hand_steer_sim/hand_steer_sim/model/static_mode/keypoint_classifier/keypoint_classifier.hdf5\n",
            "38/38 [==============================] - 0s 3ms/step - loss: 0.5212 - accuracy: 0.8086 - val_loss: 0.2140 - val_accuracy: 0.9376\n",
            "Epoch 40/1000\n",
            "37/38 [============================>.] - ETA: 0s - loss: 0.5068 - accuracy: 0.8110\n",
            "Epoch 40: saving model to /home/yunusdanabas/catkin_ws/src/hand_steer_sim/hand_steer_sim/model/static_mode/keypoint_classifier/keypoint_classifier.hdf5\n",
            "38/38 [==============================] - 0s 3ms/step - loss: 0.5050 - accuracy: 0.8115 - val_loss: 0.2026 - val_accuracy: 0.9426\n",
            "Epoch 41/1000\n",
            "36/38 [===========================>..] - ETA: 0s - loss: 0.5033 - accuracy: 0.8116\n",
            "Epoch 41: saving model to /home/yunusdanabas/catkin_ws/src/hand_steer_sim/hand_steer_sim/model/static_mode/keypoint_classifier/keypoint_classifier.hdf5\n",
            "38/38 [==============================] - 0s 3ms/step - loss: 0.5038 - accuracy: 0.8119 - val_loss: 0.2013 - val_accuracy: 0.9426\n",
            "Epoch 42/1000\n",
            " 1/38 [..............................] - ETA: 0s - loss: 0.5106 - accuracy: 0.8047\n",
            "Epoch 42: saving model to /home/yunusdanabas/catkin_ws/src/hand_steer_sim/hand_steer_sim/model/static_mode/keypoint_classifier/keypoint_classifier.hdf5\n",
            "38/38 [==============================] - 0s 3ms/step - loss: 0.5093 - accuracy: 0.8171 - val_loss: 0.2023 - val_accuracy: 0.9457\n",
            "Epoch 43/1000\n",
            " 1/38 [..............................] - ETA: 0s - loss: 0.5272 - accuracy: 0.7969\n",
            "Epoch 43: saving model to /home/yunusdanabas/catkin_ws/src/hand_steer_sim/hand_steer_sim/model/static_mode/keypoint_classifier/keypoint_classifier.hdf5\n",
            "38/38 [==============================] - 0s 3ms/step - loss: 0.4984 - accuracy: 0.8126 - val_loss: 0.2028 - val_accuracy: 0.9407\n",
            "Epoch 44/1000\n",
            "22/38 [================>.............] - ETA: 0s - loss: 0.4815 - accuracy: 0.8260\n",
            "Epoch 44: saving model to /home/yunusdanabas/catkin_ws/src/hand_steer_sim/hand_steer_sim/model/static_mode/keypoint_classifier/keypoint_classifier.hdf5\n",
            "38/38 [==============================] - 0s 4ms/step - loss: 0.4964 - accuracy: 0.8190 - val_loss: 0.1958 - val_accuracy: 0.9464\n",
            "Epoch 45/1000\n",
            "31/38 [=======================>......] - ETA: 0s - loss: 0.4816 - accuracy: 0.8261\n",
            "Epoch 45: saving model to /home/yunusdanabas/catkin_ws/src/hand_steer_sim/hand_steer_sim/model/static_mode/keypoint_classifier/keypoint_classifier.hdf5\n",
            "38/38 [==============================] - 0s 6ms/step - loss: 0.4764 - accuracy: 0.8265 - val_loss: 0.1982 - val_accuracy: 0.9407\n",
            "Epoch 46/1000\n",
            "22/38 [================>.............] - ETA: 0s - loss: 0.4648 - accuracy: 0.8335\n",
            "Epoch 46: saving model to /home/yunusdanabas/catkin_ws/src/hand_steer_sim/hand_steer_sim/model/static_mode/keypoint_classifier/keypoint_classifier.hdf5\n",
            "38/38 [==============================] - 0s 4ms/step - loss: 0.4737 - accuracy: 0.8238 - val_loss: 0.1866 - val_accuracy: 0.9464\n",
            "Epoch 47/1000\n",
            "26/38 [===================>..........] - ETA: 0s - loss: 0.4895 - accuracy: 0.8212\n",
            "Epoch 47: saving model to /home/yunusdanabas/catkin_ws/src/hand_steer_sim/hand_steer_sim/model/static_mode/keypoint_classifier/keypoint_classifier.hdf5\n",
            "38/38 [==============================] - 0s 3ms/step - loss: 0.4840 - accuracy: 0.8221 - val_loss: 0.1852 - val_accuracy: 0.9476\n",
            "Epoch 48/1000\n",
            "30/38 [======================>.......] - ETA: 0s - loss: 0.4875 - accuracy: 0.8203\n",
            "Epoch 48: saving model to /home/yunusdanabas/catkin_ws/src/hand_steer_sim/hand_steer_sim/model/static_mode/keypoint_classifier/keypoint_classifier.hdf5\n",
            "38/38 [==============================] - 0s 3ms/step - loss: 0.4788 - accuracy: 0.8255 - val_loss: 0.1895 - val_accuracy: 0.9426\n",
            "Epoch 49/1000\n",
            "29/38 [=====================>........] - ETA: 0s - loss: 0.4776 - accuracy: 0.8176\n",
            "Epoch 49: saving model to /home/yunusdanabas/catkin_ws/src/hand_steer_sim/hand_steer_sim/model/static_mode/keypoint_classifier/keypoint_classifier.hdf5\n",
            "38/38 [==============================] - 0s 3ms/step - loss: 0.4876 - accuracy: 0.8142 - val_loss: 0.1904 - val_accuracy: 0.9414\n",
            "Epoch 50/1000\n",
            "27/38 [====================>.........] - ETA: 0s - loss: 0.4611 - accuracy: 0.8238\n",
            "Epoch 50: saving model to /home/yunusdanabas/catkin_ws/src/hand_steer_sim/hand_steer_sim/model/static_mode/keypoint_classifier/keypoint_classifier.hdf5\n",
            "38/38 [==============================] - 0s 3ms/step - loss: 0.4550 - accuracy: 0.8298 - val_loss: 0.1861 - val_accuracy: 0.9451\n",
            "Epoch 51/1000\n",
            "31/38 [=======================>......] - ETA: 0s - loss: 0.4818 - accuracy: 0.8163\n",
            "Epoch 51: saving model to /home/yunusdanabas/catkin_ws/src/hand_steer_sim/hand_steer_sim/model/static_mode/keypoint_classifier/keypoint_classifier.hdf5\n",
            "38/38 [==============================] - 0s 3ms/step - loss: 0.4776 - accuracy: 0.8211 - val_loss: 0.1881 - val_accuracy: 0.9401\n",
            "Epoch 52/1000\n",
            "29/38 [=====================>........] - ETA: 0s - loss: 0.4770 - accuracy: 0.8252\n",
            "Epoch 52: saving model to /home/yunusdanabas/catkin_ws/src/hand_steer_sim/hand_steer_sim/model/static_mode/keypoint_classifier/keypoint_classifier.hdf5\n",
            "38/38 [==============================] - 0s 3ms/step - loss: 0.4663 - accuracy: 0.8292 - val_loss: 0.1839 - val_accuracy: 0.9420\n",
            "Epoch 53/1000\n",
            "31/38 [=======================>......] - ETA: 0s - loss: 0.4634 - accuracy: 0.8261\n",
            "Epoch 53: saving model to /home/yunusdanabas/catkin_ws/src/hand_steer_sim/hand_steer_sim/model/static_mode/keypoint_classifier/keypoint_classifier.hdf5\n",
            "38/38 [==============================] - 0s 3ms/step - loss: 0.4672 - accuracy: 0.8240 - val_loss: 0.1774 - val_accuracy: 0.9513\n",
            "Epoch 54/1000\n",
            "29/38 [=====================>........] - ETA: 0s - loss: 0.4785 - accuracy: 0.8225\n",
            "Epoch 54: saving model to /home/yunusdanabas/catkin_ws/src/hand_steer_sim/hand_steer_sim/model/static_mode/keypoint_classifier/keypoint_classifier.hdf5\n",
            "38/38 [==============================] - 0s 3ms/step - loss: 0.4761 - accuracy: 0.8242 - val_loss: 0.1805 - val_accuracy: 0.9457\n",
            "Epoch 55/1000\n",
            "28/38 [=====================>........] - ETA: 0s - loss: 0.4432 - accuracy: 0.8345\n",
            "Epoch 55: saving model to /home/yunusdanabas/catkin_ws/src/hand_steer_sim/hand_steer_sim/model/static_mode/keypoint_classifier/keypoint_classifier.hdf5\n",
            "38/38 [==============================] - 0s 3ms/step - loss: 0.4476 - accuracy: 0.8330 - val_loss: 0.1735 - val_accuracy: 0.9507\n",
            "Epoch 56/1000\n",
            "30/38 [======================>.......] - ETA: 0s - loss: 0.4630 - accuracy: 0.8240\n",
            "Epoch 56: saving model to /home/yunusdanabas/catkin_ws/src/hand_steer_sim/hand_steer_sim/model/static_mode/keypoint_classifier/keypoint_classifier.hdf5\n",
            "38/38 [==============================] - 0s 3ms/step - loss: 0.4558 - accuracy: 0.8290 - val_loss: 0.1752 - val_accuracy: 0.9501\n",
            "Epoch 57/1000\n",
            "27/38 [====================>.........] - ETA: 0s - loss: 0.4553 - accuracy: 0.8328\n",
            "Epoch 57: saving model to /home/yunusdanabas/catkin_ws/src/hand_steer_sim/hand_steer_sim/model/static_mode/keypoint_classifier/keypoint_classifier.hdf5\n",
            "38/38 [==============================] - 0s 3ms/step - loss: 0.4611 - accuracy: 0.8311 - val_loss: 0.1729 - val_accuracy: 0.9501\n",
            "Epoch 58/1000\n",
            "30/38 [======================>.......] - ETA: 0s - loss: 0.4541 - accuracy: 0.8333\n",
            "Epoch 58: saving model to /home/yunusdanabas/catkin_ws/src/hand_steer_sim/hand_steer_sim/model/static_mode/keypoint_classifier/keypoint_classifier.hdf5\n",
            "38/38 [==============================] - 0s 3ms/step - loss: 0.4613 - accuracy: 0.8346 - val_loss: 0.1720 - val_accuracy: 0.9507\n",
            "Epoch 59/1000\n",
            "28/38 [=====================>........] - ETA: 0s - loss: 0.4369 - accuracy: 0.8343\n",
            "Epoch 59: saving model to /home/yunusdanabas/catkin_ws/src/hand_steer_sim/hand_steer_sim/model/static_mode/keypoint_classifier/keypoint_classifier.hdf5\n",
            "38/38 [==============================] - 0s 3ms/step - loss: 0.4325 - accuracy: 0.8404 - val_loss: 0.1683 - val_accuracy: 0.9513\n",
            "Epoch 60/1000\n",
            "29/38 [=====================>........] - ETA: 0s - loss: 0.4508 - accuracy: 0.8303\n",
            "Epoch 60: saving model to /home/yunusdanabas/catkin_ws/src/hand_steer_sim/hand_steer_sim/model/static_mode/keypoint_classifier/keypoint_classifier.hdf5\n",
            "38/38 [==============================] - 0s 3ms/step - loss: 0.4458 - accuracy: 0.8315 - val_loss: 0.1597 - val_accuracy: 0.9570\n",
            "Epoch 61/1000\n",
            "29/38 [=====================>........] - ETA: 0s - loss: 0.4382 - accuracy: 0.8384\n",
            "Epoch 61: saving model to /home/yunusdanabas/catkin_ws/src/hand_steer_sim/hand_steer_sim/model/static_mode/keypoint_classifier/keypoint_classifier.hdf5\n",
            "38/38 [==============================] - 0s 3ms/step - loss: 0.4440 - accuracy: 0.8346 - val_loss: 0.1696 - val_accuracy: 0.9482\n",
            "Epoch 62/1000\n",
            "29/38 [=====================>........] - ETA: 0s - loss: 0.4659 - accuracy: 0.8225\n",
            "Epoch 62: saving model to /home/yunusdanabas/catkin_ws/src/hand_steer_sim/hand_steer_sim/model/static_mode/keypoint_classifier/keypoint_classifier.hdf5\n",
            "38/38 [==============================] - 0s 3ms/step - loss: 0.4609 - accuracy: 0.8261 - val_loss: 0.1655 - val_accuracy: 0.9532\n",
            "Epoch 63/1000\n",
            "29/38 [=====================>........] - ETA: 0s - loss: 0.4298 - accuracy: 0.8386\n",
            "Epoch 63: saving model to /home/yunusdanabas/catkin_ws/src/hand_steer_sim/hand_steer_sim/model/static_mode/keypoint_classifier/keypoint_classifier.hdf5\n",
            "38/38 [==============================] - 0s 3ms/step - loss: 0.4386 - accuracy: 0.8332 - val_loss: 0.1662 - val_accuracy: 0.9532\n",
            "Epoch 64/1000\n",
            "32/38 [========================>.....] - ETA: 0s - loss: 0.4513 - accuracy: 0.8293\n",
            "Epoch 64: saving model to /home/yunusdanabas/catkin_ws/src/hand_steer_sim/hand_steer_sim/model/static_mode/keypoint_classifier/keypoint_classifier.hdf5\n",
            "38/38 [==============================] - 0s 3ms/step - loss: 0.4519 - accuracy: 0.8273 - val_loss: 0.1593 - val_accuracy: 0.9570\n",
            "Epoch 65/1000\n",
            "30/38 [======================>.......] - ETA: 0s - loss: 0.4729 - accuracy: 0.8279\n",
            "Epoch 65: saving model to /home/yunusdanabas/catkin_ws/src/hand_steer_sim/hand_steer_sim/model/static_mode/keypoint_classifier/keypoint_classifier.hdf5\n",
            "38/38 [==============================] - 0s 3ms/step - loss: 0.4636 - accuracy: 0.8302 - val_loss: 0.1673 - val_accuracy: 0.9513\n",
            "Epoch 66/1000\n",
            "29/38 [=====================>........] - ETA: 0s - loss: 0.4526 - accuracy: 0.8381\n",
            "Epoch 66: saving model to /home/yunusdanabas/catkin_ws/src/hand_steer_sim/hand_steer_sim/model/static_mode/keypoint_classifier/keypoint_classifier.hdf5\n",
            "38/38 [==============================] - 0s 3ms/step - loss: 0.4363 - accuracy: 0.8440 - val_loss: 0.1628 - val_accuracy: 0.9551\n",
            "Epoch 67/1000\n",
            "30/38 [======================>.......] - ETA: 0s - loss: 0.4475 - accuracy: 0.8430\n",
            "Epoch 67: saving model to /home/yunusdanabas/catkin_ws/src/hand_steer_sim/hand_steer_sim/model/static_mode/keypoint_classifier/keypoint_classifier.hdf5\n",
            "38/38 [==============================] - 0s 3ms/step - loss: 0.4427 - accuracy: 0.8409 - val_loss: 0.1619 - val_accuracy: 0.9551\n",
            "Epoch 68/1000\n",
            "27/38 [====================>.........] - ETA: 0s - loss: 0.4515 - accuracy: 0.8397\n",
            "Epoch 68: saving model to /home/yunusdanabas/catkin_ws/src/hand_steer_sim/hand_steer_sim/model/static_mode/keypoint_classifier/keypoint_classifier.hdf5\n",
            "38/38 [==============================] - 0s 3ms/step - loss: 0.4458 - accuracy: 0.8361 - val_loss: 0.1626 - val_accuracy: 0.9520\n",
            "Epoch 69/1000\n",
            "29/38 [=====================>........] - ETA: 0s - loss: 0.4572 - accuracy: 0.8316\n",
            "Epoch 69: saving model to /home/yunusdanabas/catkin_ws/src/hand_steer_sim/hand_steer_sim/model/static_mode/keypoint_classifier/keypoint_classifier.hdf5\n",
            "38/38 [==============================] - 0s 3ms/step - loss: 0.4555 - accuracy: 0.8325 - val_loss: 0.1639 - val_accuracy: 0.9538\n",
            "Epoch 70/1000\n",
            "29/38 [=====================>........] - ETA: 0s - loss: 0.4293 - accuracy: 0.8427\n",
            "Epoch 70: saving model to /home/yunusdanabas/catkin_ws/src/hand_steer_sim/hand_steer_sim/model/static_mode/keypoint_classifier/keypoint_classifier.hdf5\n",
            "38/38 [==============================] - 0s 3ms/step - loss: 0.4285 - accuracy: 0.8406 - val_loss: 0.1582 - val_accuracy: 0.9551\n",
            "Epoch 71/1000\n",
            "29/38 [=====================>........] - ETA: 0s - loss: 0.4300 - accuracy: 0.8424\n",
            "Epoch 71: saving model to /home/yunusdanabas/catkin_ws/src/hand_steer_sim/hand_steer_sim/model/static_mode/keypoint_classifier/keypoint_classifier.hdf5\n",
            "38/38 [==============================] - 0s 3ms/step - loss: 0.4294 - accuracy: 0.8423 - val_loss: 0.1537 - val_accuracy: 0.9551\n",
            "Epoch 72/1000\n",
            "29/38 [=====================>........] - ETA: 0s - loss: 0.4327 - accuracy: 0.8440\n",
            "Epoch 72: saving model to /home/yunusdanabas/catkin_ws/src/hand_steer_sim/hand_steer_sim/model/static_mode/keypoint_classifier/keypoint_classifier.hdf5\n",
            "38/38 [==============================] - 0s 3ms/step - loss: 0.4343 - accuracy: 0.8427 - val_loss: 0.1533 - val_accuracy: 0.9582\n",
            "Epoch 73/1000\n",
            "22/38 [================>.............] - ETA: 0s - loss: 0.4522 - accuracy: 0.8356\n",
            "Epoch 73: saving model to /home/yunusdanabas/catkin_ws/src/hand_steer_sim/hand_steer_sim/model/static_mode/keypoint_classifier/keypoint_classifier.hdf5\n",
            "38/38 [==============================] - 0s 4ms/step - loss: 0.4481 - accuracy: 0.8359 - val_loss: 0.1602 - val_accuracy: 0.9570\n",
            "Epoch 74/1000\n",
            "30/38 [======================>.......] - ETA: 0s - loss: 0.4283 - accuracy: 0.8443\n",
            "Epoch 74: saving model to /home/yunusdanabas/catkin_ws/src/hand_steer_sim/hand_steer_sim/model/static_mode/keypoint_classifier/keypoint_classifier.hdf5\n",
            "38/38 [==============================] - 0s 3ms/step - loss: 0.4294 - accuracy: 0.8446 - val_loss: 0.1541 - val_accuracy: 0.9570\n",
            "Epoch 75/1000\n",
            "28/38 [=====================>........] - ETA: 0s - loss: 0.4247 - accuracy: 0.8474\n",
            "Epoch 75: saving model to /home/yunusdanabas/catkin_ws/src/hand_steer_sim/hand_steer_sim/model/static_mode/keypoint_classifier/keypoint_classifier.hdf5\n",
            "38/38 [==============================] - 0s 3ms/step - loss: 0.4249 - accuracy: 0.8463 - val_loss: 0.1527 - val_accuracy: 0.9607\n",
            "Epoch 76/1000\n",
            "29/38 [=====================>........] - ETA: 0s - loss: 0.4347 - accuracy: 0.8376\n",
            "Epoch 76: saving model to /home/yunusdanabas/catkin_ws/src/hand_steer_sim/hand_steer_sim/model/static_mode/keypoint_classifier/keypoint_classifier.hdf5\n",
            "38/38 [==============================] - 0s 3ms/step - loss: 0.4412 - accuracy: 0.8336 - val_loss: 0.1560 - val_accuracy: 0.9563\n",
            "Epoch 77/1000\n",
            "29/38 [=====================>........] - ETA: 0s - loss: 0.4321 - accuracy: 0.8394\n",
            "Epoch 77: saving model to /home/yunusdanabas/catkin_ws/src/hand_steer_sim/hand_steer_sim/model/static_mode/keypoint_classifier/keypoint_classifier.hdf5\n",
            "38/38 [==============================] - 0s 3ms/step - loss: 0.4380 - accuracy: 0.8365 - val_loss: 0.1589 - val_accuracy: 0.9532\n",
            "Epoch 78/1000\n",
            "30/38 [======================>.......] - ETA: 0s - loss: 0.4430 - accuracy: 0.8370\n",
            "Epoch 78: saving model to /home/yunusdanabas/catkin_ws/src/hand_steer_sim/hand_steer_sim/model/static_mode/keypoint_classifier/keypoint_classifier.hdf5\n",
            "38/38 [==============================] - 0s 3ms/step - loss: 0.4313 - accuracy: 0.8398 - val_loss: 0.1530 - val_accuracy: 0.9588\n",
            "Epoch 79/1000\n",
            "29/38 [=====================>........] - ETA: 0s - loss: 0.4238 - accuracy: 0.8411\n",
            "Epoch 79: saving model to /home/yunusdanabas/catkin_ws/src/hand_steer_sim/hand_steer_sim/model/static_mode/keypoint_classifier/keypoint_classifier.hdf5\n",
            "38/38 [==============================] - 0s 3ms/step - loss: 0.4171 - accuracy: 0.8419 - val_loss: 0.1540 - val_accuracy: 0.9588\n",
            "Epoch 80/1000\n",
            "29/38 [=====================>........] - ETA: 0s - loss: 0.4345 - accuracy: 0.8456\n",
            "Epoch 80: saving model to /home/yunusdanabas/catkin_ws/src/hand_steer_sim/hand_steer_sim/model/static_mode/keypoint_classifier/keypoint_classifier.hdf5\n",
            "38/38 [==============================] - 0s 3ms/step - loss: 0.4389 - accuracy: 0.8417 - val_loss: 0.1539 - val_accuracy: 0.9563\n",
            "Epoch 81/1000\n",
            "28/38 [=====================>........] - ETA: 0s - loss: 0.4260 - accuracy: 0.8418\n",
            "Epoch 81: saving model to /home/yunusdanabas/catkin_ws/src/hand_steer_sim/hand_steer_sim/model/static_mode/keypoint_classifier/keypoint_classifier.hdf5\n",
            "38/38 [==============================] - 0s 3ms/step - loss: 0.4299 - accuracy: 0.8400 - val_loss: 0.1532 - val_accuracy: 0.9570\n",
            "Epoch 82/1000\n",
            "27/38 [====================>.........] - ETA: 0s - loss: 0.4229 - accuracy: 0.8452\n",
            "Epoch 82: saving model to /home/yunusdanabas/catkin_ws/src/hand_steer_sim/hand_steer_sim/model/static_mode/keypoint_classifier/keypoint_classifier.hdf5\n",
            "38/38 [==============================] - 0s 3ms/step - loss: 0.4334 - accuracy: 0.8434 - val_loss: 0.1546 - val_accuracy: 0.9619\n",
            "Epoch 83/1000\n",
            "31/38 [=======================>......] - ETA: 0s - loss: 0.4436 - accuracy: 0.8427\n",
            "Epoch 83: saving model to /home/yunusdanabas/catkin_ws/src/hand_steer_sim/hand_steer_sim/model/static_mode/keypoint_classifier/keypoint_classifier.hdf5\n",
            "38/38 [==============================] - 0s 3ms/step - loss: 0.4367 - accuracy: 0.8448 - val_loss: 0.1501 - val_accuracy: 0.9570\n",
            "Epoch 84/1000\n",
            "31/38 [=======================>......] - ETA: 0s - loss: 0.4203 - accuracy: 0.8501\n",
            "Epoch 84: saving model to /home/yunusdanabas/catkin_ws/src/hand_steer_sim/hand_steer_sim/model/static_mode/keypoint_classifier/keypoint_classifier.hdf5\n",
            "38/38 [==============================] - 0s 3ms/step - loss: 0.4220 - accuracy: 0.8502 - val_loss: 0.1482 - val_accuracy: 0.9595\n",
            "Epoch 85/1000\n",
            "29/38 [=====================>........] - ETA: 0s - loss: 0.4185 - accuracy: 0.8467\n",
            "Epoch 85: saving model to /home/yunusdanabas/catkin_ws/src/hand_steer_sim/hand_steer_sim/model/static_mode/keypoint_classifier/keypoint_classifier.hdf5\n",
            "38/38 [==============================] - 0s 3ms/step - loss: 0.4241 - accuracy: 0.8404 - val_loss: 0.1469 - val_accuracy: 0.9619\n",
            "Epoch 86/1000\n",
            "30/38 [======================>.......] - ETA: 0s - loss: 0.4511 - accuracy: 0.8326\n",
            "Epoch 86: saving model to /home/yunusdanabas/catkin_ws/src/hand_steer_sim/hand_steer_sim/model/static_mode/keypoint_classifier/keypoint_classifier.hdf5\n",
            "38/38 [==============================] - 0s 3ms/step - loss: 0.4475 - accuracy: 0.8359 - val_loss: 0.1544 - val_accuracy: 0.9563\n",
            "Epoch 87/1000\n",
            "30/38 [======================>.......] - ETA: 0s - loss: 0.4237 - accuracy: 0.8458\n",
            "Epoch 87: saving model to /home/yunusdanabas/catkin_ws/src/hand_steer_sim/hand_steer_sim/model/static_mode/keypoint_classifier/keypoint_classifier.hdf5\n",
            "38/38 [==============================] - 0s 3ms/step - loss: 0.4257 - accuracy: 0.8463 - val_loss: 0.1446 - val_accuracy: 0.9626\n",
            "Epoch 88/1000\n",
            "30/38 [======================>.......] - ETA: 0s - loss: 0.4338 - accuracy: 0.8461\n",
            "Epoch 88: saving model to /home/yunusdanabas/catkin_ws/src/hand_steer_sim/hand_steer_sim/model/static_mode/keypoint_classifier/keypoint_classifier.hdf5\n",
            "38/38 [==============================] - 0s 3ms/step - loss: 0.4291 - accuracy: 0.8454 - val_loss: 0.1488 - val_accuracy: 0.9576\n",
            "Epoch 89/1000\n",
            "31/38 [=======================>......] - ETA: 0s - loss: 0.4066 - accuracy: 0.8523\n",
            "Epoch 89: saving model to /home/yunusdanabas/catkin_ws/src/hand_steer_sim/hand_steer_sim/model/static_mode/keypoint_classifier/keypoint_classifier.hdf5\n",
            "38/38 [==============================] - 0s 3ms/step - loss: 0.4096 - accuracy: 0.8490 - val_loss: 0.1478 - val_accuracy: 0.9557\n",
            "Epoch 90/1000\n",
            "28/38 [=====================>........] - ETA: 0s - loss: 0.4266 - accuracy: 0.8410\n",
            "Epoch 90: saving model to /home/yunusdanabas/catkin_ws/src/hand_steer_sim/hand_steer_sim/model/static_mode/keypoint_classifier/keypoint_classifier.hdf5\n",
            "38/38 [==============================] - 0s 3ms/step - loss: 0.4307 - accuracy: 0.8394 - val_loss: 0.1459 - val_accuracy: 0.9632\n",
            "Epoch 91/1000\n",
            "29/38 [=====================>........] - ETA: 0s - loss: 0.4149 - accuracy: 0.8473\n",
            "Epoch 91: saving model to /home/yunusdanabas/catkin_ws/src/hand_steer_sim/hand_steer_sim/model/static_mode/keypoint_classifier/keypoint_classifier.hdf5\n",
            "38/38 [==============================] - 0s 3ms/step - loss: 0.4240 - accuracy: 0.8442 - val_loss: 0.1433 - val_accuracy: 0.9651\n",
            "Epoch 92/1000\n",
            " 1/38 [..............................] - ETA: 0s - loss: 0.3514 - accuracy: 0.8828\n",
            "Epoch 92: saving model to /home/yunusdanabas/catkin_ws/src/hand_steer_sim/hand_steer_sim/model/static_mode/keypoint_classifier/keypoint_classifier.hdf5\n",
            "38/38 [==============================] - 0s 2ms/step - loss: 0.4181 - accuracy: 0.8469 - val_loss: 0.1454 - val_accuracy: 0.9663\n",
            "Epoch 93/1000\n",
            "29/38 [=====================>........] - ETA: 0s - loss: 0.4168 - accuracy: 0.8459\n",
            "Epoch 93: saving model to /home/yunusdanabas/catkin_ws/src/hand_steer_sim/hand_steer_sim/model/static_mode/keypoint_classifier/keypoint_classifier.hdf5\n",
            "38/38 [==============================] - 0s 3ms/step - loss: 0.4139 - accuracy: 0.8492 - val_loss: 0.1475 - val_accuracy: 0.9601\n",
            "Epoch 94/1000\n",
            "28/38 [=====================>........] - ETA: 0s - loss: 0.4174 - accuracy: 0.8482\n",
            "Epoch 94: saving model to /home/yunusdanabas/catkin_ws/src/hand_steer_sim/hand_steer_sim/model/static_mode/keypoint_classifier/keypoint_classifier.hdf5\n",
            "38/38 [==============================] - 0s 3ms/step - loss: 0.4211 - accuracy: 0.8452 - val_loss: 0.1521 - val_accuracy: 0.9538\n",
            "Epoch 95/1000\n",
            "31/38 [=======================>......] - ETA: 0s - loss: 0.4109 - accuracy: 0.8518\n",
            "Epoch 95: saving model to /home/yunusdanabas/catkin_ws/src/hand_steer_sim/hand_steer_sim/model/static_mode/keypoint_classifier/keypoint_classifier.hdf5\n",
            "38/38 [==============================] - 0s 3ms/step - loss: 0.4172 - accuracy: 0.8506 - val_loss: 0.1451 - val_accuracy: 0.9626\n",
            "Epoch 96/1000\n",
            "29/38 [=====================>........] - ETA: 0s - loss: 0.4199 - accuracy: 0.8464\n",
            "Epoch 96: saving model to /home/yunusdanabas/catkin_ws/src/hand_steer_sim/hand_steer_sim/model/static_mode/keypoint_classifier/keypoint_classifier.hdf5\n",
            "38/38 [==============================] - 0s 3ms/step - loss: 0.4189 - accuracy: 0.8463 - val_loss: 0.1422 - val_accuracy: 0.9619\n",
            "Epoch 97/1000\n",
            "30/38 [======================>.......] - ETA: 0s - loss: 0.4014 - accuracy: 0.8576\n",
            "Epoch 97: saving model to /home/yunusdanabas/catkin_ws/src/hand_steer_sim/hand_steer_sim/model/static_mode/keypoint_classifier/keypoint_classifier.hdf5\n",
            "38/38 [==============================] - 0s 3ms/step - loss: 0.4085 - accuracy: 0.8540 - val_loss: 0.1410 - val_accuracy: 0.9626\n",
            "Epoch 98/1000\n",
            "29/38 [=====================>........] - ETA: 0s - loss: 0.4283 - accuracy: 0.8378\n",
            "Epoch 98: saving model to /home/yunusdanabas/catkin_ws/src/hand_steer_sim/hand_steer_sim/model/static_mode/keypoint_classifier/keypoint_classifier.hdf5\n",
            "38/38 [==============================] - 0s 3ms/step - loss: 0.4199 - accuracy: 0.8425 - val_loss: 0.1383 - val_accuracy: 0.9682\n",
            "Epoch 99/1000\n",
            "29/38 [=====================>........] - ETA: 0s - loss: 0.4323 - accuracy: 0.8478\n",
            "Epoch 99: saving model to /home/yunusdanabas/catkin_ws/src/hand_steer_sim/hand_steer_sim/model/static_mode/keypoint_classifier/keypoint_classifier.hdf5\n",
            "38/38 [==============================] - 0s 3ms/step - loss: 0.4286 - accuracy: 0.8463 - val_loss: 0.1449 - val_accuracy: 0.9632\n",
            "Epoch 100/1000\n",
            "28/38 [=====================>........] - ETA: 0s - loss: 0.4181 - accuracy: 0.8488\n",
            "Epoch 100: saving model to /home/yunusdanabas/catkin_ws/src/hand_steer_sim/hand_steer_sim/model/static_mode/keypoint_classifier/keypoint_classifier.hdf5\n",
            "38/38 [==============================] - 0s 3ms/step - loss: 0.4077 - accuracy: 0.8533 - val_loss: 0.1444 - val_accuracy: 0.9601\n",
            "Epoch 101/1000\n",
            "28/38 [=====================>........] - ETA: 0s - loss: 0.4269 - accuracy: 0.8426\n",
            "Epoch 101: saving model to /home/yunusdanabas/catkin_ws/src/hand_steer_sim/hand_steer_sim/model/static_mode/keypoint_classifier/keypoint_classifier.hdf5\n",
            "38/38 [==============================] - 0s 3ms/step - loss: 0.4154 - accuracy: 0.8471 - val_loss: 0.1384 - val_accuracy: 0.9657\n",
            "Epoch 102/1000\n",
            "31/38 [=======================>......] - ETA: 0s - loss: 0.4022 - accuracy: 0.8506\n",
            "Epoch 102: saving model to /home/yunusdanabas/catkin_ws/src/hand_steer_sim/hand_steer_sim/model/static_mode/keypoint_classifier/keypoint_classifier.hdf5\n",
            "38/38 [==============================] - 0s 3ms/step - loss: 0.3993 - accuracy: 0.8535 - val_loss: 0.1413 - val_accuracy: 0.9601\n",
            "Epoch 103/1000\n",
            "30/38 [======================>.......] - ETA: 0s - loss: 0.4311 - accuracy: 0.8482\n",
            "Epoch 103: saving model to /home/yunusdanabas/catkin_ws/src/hand_steer_sim/hand_steer_sim/model/static_mode/keypoint_classifier/keypoint_classifier.hdf5\n",
            "38/38 [==============================] - 0s 3ms/step - loss: 0.4237 - accuracy: 0.8498 - val_loss: 0.1434 - val_accuracy: 0.9595\n",
            "Epoch 104/1000\n",
            "30/38 [======================>.......] - ETA: 0s - loss: 0.4027 - accuracy: 0.8570\n",
            "Epoch 104: saving model to /home/yunusdanabas/catkin_ws/src/hand_steer_sim/hand_steer_sim/model/static_mode/keypoint_classifier/keypoint_classifier.hdf5\n",
            "38/38 [==============================] - 0s 3ms/step - loss: 0.4042 - accuracy: 0.8558 - val_loss: 0.1388 - val_accuracy: 0.9638\n",
            "Epoch 105/1000\n",
            "30/38 [======================>.......] - ETA: 0s - loss: 0.4043 - accuracy: 0.8578\n",
            "Epoch 105: saving model to /home/yunusdanabas/catkin_ws/src/hand_steer_sim/hand_steer_sim/model/static_mode/keypoint_classifier/keypoint_classifier.hdf5\n",
            "38/38 [==============================] - 0s 3ms/step - loss: 0.4095 - accuracy: 0.8556 - val_loss: 0.1394 - val_accuracy: 0.9657\n",
            "Epoch 106/1000\n",
            "23/38 [=================>............] - ETA: 0s - loss: 0.3955 - accuracy: 0.8546\n",
            "Epoch 106: saving model to /home/yunusdanabas/catkin_ws/src/hand_steer_sim/hand_steer_sim/model/static_mode/keypoint_classifier/keypoint_classifier.hdf5\n",
            "38/38 [==============================] - 0s 4ms/step - loss: 0.3981 - accuracy: 0.8558 - val_loss: 0.1395 - val_accuracy: 0.9619\n",
            "Epoch 107/1000\n",
            "29/38 [=====================>........] - ETA: 0s - loss: 0.4189 - accuracy: 0.8456\n",
            "Epoch 107: saving model to /home/yunusdanabas/catkin_ws/src/hand_steer_sim/hand_steer_sim/model/static_mode/keypoint_classifier/keypoint_classifier.hdf5\n",
            "38/38 [==============================] - 0s 3ms/step - loss: 0.4112 - accuracy: 0.8494 - val_loss: 0.1368 - val_accuracy: 0.9644\n",
            "Epoch 108/1000\n",
            "32/38 [========================>.....] - ETA: 0s - loss: 0.4118 - accuracy: 0.8462\n",
            "Epoch 108: saving model to /home/yunusdanabas/catkin_ws/src/hand_steer_sim/hand_steer_sim/model/static_mode/keypoint_classifier/keypoint_classifier.hdf5\n",
            "38/38 [==============================] - 0s 3ms/step - loss: 0.4133 - accuracy: 0.8442 - val_loss: 0.1386 - val_accuracy: 0.9657\n",
            "Epoch 109/1000\n",
            "30/38 [======================>.......] - ETA: 0s - loss: 0.4203 - accuracy: 0.8497\n",
            "Epoch 109: saving model to /home/yunusdanabas/catkin_ws/src/hand_steer_sim/hand_steer_sim/model/static_mode/keypoint_classifier/keypoint_classifier.hdf5\n",
            "38/38 [==============================] - 0s 3ms/step - loss: 0.4167 - accuracy: 0.8513 - val_loss: 0.1382 - val_accuracy: 0.9638\n",
            "Epoch 110/1000\n",
            "30/38 [======================>.......] - ETA: 0s - loss: 0.4074 - accuracy: 0.8529\n",
            "Epoch 110: saving model to /home/yunusdanabas/catkin_ws/src/hand_steer_sim/hand_steer_sim/model/static_mode/keypoint_classifier/keypoint_classifier.hdf5\n",
            "38/38 [==============================] - 0s 3ms/step - loss: 0.3991 - accuracy: 0.8548 - val_loss: 0.1356 - val_accuracy: 0.9651\n",
            "Epoch 111/1000\n",
            "31/38 [=======================>......] - ETA: 0s - loss: 0.3993 - accuracy: 0.8498\n",
            "Epoch 111: saving model to /home/yunusdanabas/catkin_ws/src/hand_steer_sim/hand_steer_sim/model/static_mode/keypoint_classifier/keypoint_classifier.hdf5\n",
            "38/38 [==============================] - 0s 3ms/step - loss: 0.4065 - accuracy: 0.8471 - val_loss: 0.1331 - val_accuracy: 0.9694\n",
            "Epoch 112/1000\n",
            "31/38 [=======================>......] - ETA: 0s - loss: 0.4137 - accuracy: 0.8483\n",
            "Epoch 112: saving model to /home/yunusdanabas/catkin_ws/src/hand_steer_sim/hand_steer_sim/model/static_mode/keypoint_classifier/keypoint_classifier.hdf5\n",
            "38/38 [==============================] - 0s 3ms/step - loss: 0.4115 - accuracy: 0.8496 - val_loss: 0.1359 - val_accuracy: 0.9669\n",
            "Epoch 113/1000\n",
            "30/38 [======================>.......] - ETA: 0s - loss: 0.4080 - accuracy: 0.8513\n",
            "Epoch 113: saving model to /home/yunusdanabas/catkin_ws/src/hand_steer_sim/hand_steer_sim/model/static_mode/keypoint_classifier/keypoint_classifier.hdf5\n",
            "38/38 [==============================] - 0s 3ms/step - loss: 0.4047 - accuracy: 0.8535 - val_loss: 0.1346 - val_accuracy: 0.9657\n",
            "Epoch 114/1000\n",
            "31/38 [=======================>......] - ETA: 0s - loss: 0.4058 - accuracy: 0.8445\n",
            "Epoch 114: saving model to /home/yunusdanabas/catkin_ws/src/hand_steer_sim/hand_steer_sim/model/static_mode/keypoint_classifier/keypoint_classifier.hdf5\n",
            "38/38 [==============================] - 0s 3ms/step - loss: 0.4010 - accuracy: 0.8488 - val_loss: 0.1408 - val_accuracy: 0.9613\n",
            "Epoch 115/1000\n",
            "32/38 [========================>.....] - ETA: 0s - loss: 0.4056 - accuracy: 0.8494\n",
            "Epoch 115: saving model to /home/yunusdanabas/catkin_ws/src/hand_steer_sim/hand_steer_sim/model/static_mode/keypoint_classifier/keypoint_classifier.hdf5\n",
            "38/38 [==============================] - 0s 3ms/step - loss: 0.3993 - accuracy: 0.8515 - val_loss: 0.1337 - val_accuracy: 0.9676\n",
            "Epoch 116/1000\n",
            "30/38 [======================>.......] - ETA: 0s - loss: 0.4033 - accuracy: 0.8596\n",
            "Epoch 116: saving model to /home/yunusdanabas/catkin_ws/src/hand_steer_sim/hand_steer_sim/model/static_mode/keypoint_classifier/keypoint_classifier.hdf5\n",
            "38/38 [==============================] - 0s 3ms/step - loss: 0.4028 - accuracy: 0.8592 - val_loss: 0.1335 - val_accuracy: 0.9663\n",
            "Epoch 117/1000\n",
            "29/38 [=====================>........] - ETA: 0s - loss: 0.4078 - accuracy: 0.8508\n",
            "Epoch 117: saving model to /home/yunusdanabas/catkin_ws/src/hand_steer_sim/hand_steer_sim/model/static_mode/keypoint_classifier/keypoint_classifier.hdf5\n",
            "38/38 [==============================] - 0s 3ms/step - loss: 0.4043 - accuracy: 0.8525 - val_loss: 0.1317 - val_accuracy: 0.9663\n",
            "Epoch 118/1000\n",
            "29/38 [=====================>........] - ETA: 0s - loss: 0.3977 - accuracy: 0.8529\n",
            "Epoch 118: saving model to /home/yunusdanabas/catkin_ws/src/hand_steer_sim/hand_steer_sim/model/static_mode/keypoint_classifier/keypoint_classifier.hdf5\n",
            "38/38 [==============================] - 0s 3ms/step - loss: 0.3956 - accuracy: 0.8546 - val_loss: 0.1328 - val_accuracy: 0.9682\n",
            "Epoch 119/1000\n",
            "21/38 [===============>..............] - ETA: 0s - loss: 0.4005 - accuracy: 0.8568\n",
            "Epoch 119: saving model to /home/yunusdanabas/catkin_ws/src/hand_steer_sim/hand_steer_sim/model/static_mode/keypoint_classifier/keypoint_classifier.hdf5\n",
            "38/38 [==============================] - 0s 4ms/step - loss: 0.4026 - accuracy: 0.8540 - val_loss: 0.1386 - val_accuracy: 0.9595\n",
            "Epoch 120/1000\n",
            "29/38 [=====================>........] - ETA: 0s - loss: 0.3903 - accuracy: 0.8543\n",
            "Epoch 120: saving model to /home/yunusdanabas/catkin_ws/src/hand_steer_sim/hand_steer_sim/model/static_mode/keypoint_classifier/keypoint_classifier.hdf5\n",
            "38/38 [==============================] - 0s 3ms/step - loss: 0.3949 - accuracy: 0.8554 - val_loss: 0.1318 - val_accuracy: 0.9701\n",
            "Epoch 121/1000\n",
            "31/38 [=======================>......] - ETA: 0s - loss: 0.4108 - accuracy: 0.8566\n",
            "Epoch 121: saving model to /home/yunusdanabas/catkin_ws/src/hand_steer_sim/hand_steer_sim/model/static_mode/keypoint_classifier/keypoint_classifier.hdf5\n",
            "38/38 [==============================] - 0s 3ms/step - loss: 0.4057 - accuracy: 0.8573 - val_loss: 0.1298 - val_accuracy: 0.9688\n",
            "Epoch 122/1000\n",
            "29/38 [=====================>........] - ETA: 0s - loss: 0.3919 - accuracy: 0.8551\n",
            "Epoch 122: saving model to /home/yunusdanabas/catkin_ws/src/hand_steer_sim/hand_steer_sim/model/static_mode/keypoint_classifier/keypoint_classifier.hdf5\n",
            "38/38 [==============================] - 0s 3ms/step - loss: 0.3921 - accuracy: 0.8563 - val_loss: 0.1259 - val_accuracy: 0.9719\n",
            "Epoch 123/1000\n",
            "29/38 [=====================>........] - ETA: 0s - loss: 0.3997 - accuracy: 0.8459\n",
            "Epoch 123: saving model to /home/yunusdanabas/catkin_ws/src/hand_steer_sim/hand_steer_sim/model/static_mode/keypoint_classifier/keypoint_classifier.hdf5\n",
            "38/38 [==============================] - 0s 3ms/step - loss: 0.4001 - accuracy: 0.8450 - val_loss: 0.1309 - val_accuracy: 0.9688\n",
            "Epoch 124/1000\n",
            "30/38 [======================>.......] - ETA: 0s - loss: 0.4211 - accuracy: 0.8495\n",
            "Epoch 124: saving model to /home/yunusdanabas/catkin_ws/src/hand_steer_sim/hand_steer_sim/model/static_mode/keypoint_classifier/keypoint_classifier.hdf5\n",
            "38/38 [==============================] - 0s 3ms/step - loss: 0.4209 - accuracy: 0.8483 - val_loss: 0.1370 - val_accuracy: 0.9626\n",
            "Epoch 125/1000\n",
            "30/38 [======================>.......] - ETA: 0s - loss: 0.4164 - accuracy: 0.8549\n",
            "Epoch 125: saving model to /home/yunusdanabas/catkin_ws/src/hand_steer_sim/hand_steer_sim/model/static_mode/keypoint_classifier/keypoint_classifier.hdf5\n",
            "38/38 [==============================] - 0s 3ms/step - loss: 0.4136 - accuracy: 0.8552 - val_loss: 0.1352 - val_accuracy: 0.9651\n",
            "Epoch 126/1000\n",
            "28/38 [=====================>........] - ETA: 0s - loss: 0.4021 - accuracy: 0.8513\n",
            "Epoch 126: saving model to /home/yunusdanabas/catkin_ws/src/hand_steer_sim/hand_steer_sim/model/static_mode/keypoint_classifier/keypoint_classifier.hdf5\n",
            "38/38 [==============================] - 0s 3ms/step - loss: 0.4051 - accuracy: 0.8519 - val_loss: 0.1265 - val_accuracy: 0.9707\n",
            "Epoch 127/1000\n",
            "31/38 [=======================>......] - ETA: 0s - loss: 0.4044 - accuracy: 0.8526\n",
            "Epoch 127: saving model to /home/yunusdanabas/catkin_ws/src/hand_steer_sim/hand_steer_sim/model/static_mode/keypoint_classifier/keypoint_classifier.hdf5\n",
            "38/38 [==============================] - 0s 6ms/step - loss: 0.3993 - accuracy: 0.8556 - val_loss: 0.1297 - val_accuracy: 0.9676\n",
            "Epoch 128/1000\n",
            "28/38 [=====================>........] - ETA: 0s - loss: 0.3946 - accuracy: 0.8571\n",
            "Epoch 128: saving model to /home/yunusdanabas/catkin_ws/src/hand_steer_sim/hand_steer_sim/model/static_mode/keypoint_classifier/keypoint_classifier.hdf5\n",
            "38/38 [==============================] - 0s 3ms/step - loss: 0.3986 - accuracy: 0.8552 - val_loss: 0.1325 - val_accuracy: 0.9682\n",
            "Epoch 129/1000\n",
            "29/38 [=====================>........] - ETA: 0s - loss: 0.4078 - accuracy: 0.8551\n",
            "Epoch 129: saving model to /home/yunusdanabas/catkin_ws/src/hand_steer_sim/hand_steer_sim/model/static_mode/keypoint_classifier/keypoint_classifier.hdf5\n",
            "38/38 [==============================] - 0s 3ms/step - loss: 0.3981 - accuracy: 0.8604 - val_loss: 0.1252 - val_accuracy: 0.9701\n",
            "Epoch 130/1000\n",
            "31/38 [=======================>......] - ETA: 0s - loss: 0.3840 - accuracy: 0.8523\n",
            "Epoch 130: saving model to /home/yunusdanabas/catkin_ws/src/hand_steer_sim/hand_steer_sim/model/static_mode/keypoint_classifier/keypoint_classifier.hdf5\n",
            "38/38 [==============================] - 0s 3ms/step - loss: 0.3811 - accuracy: 0.8529 - val_loss: 0.1283 - val_accuracy: 0.9676\n",
            "Epoch 131/1000\n",
            "24/38 [=================>............] - ETA: 0s - loss: 0.4281 - accuracy: 0.8480\n",
            "Epoch 131: saving model to /home/yunusdanabas/catkin_ws/src/hand_steer_sim/hand_steer_sim/model/static_mode/keypoint_classifier/keypoint_classifier.hdf5\n",
            "38/38 [==============================] - 0s 4ms/step - loss: 0.4122 - accuracy: 0.8556 - val_loss: 0.1316 - val_accuracy: 0.9657\n",
            "Epoch 132/1000\n",
            "30/38 [======================>.......] - ETA: 0s - loss: 0.3882 - accuracy: 0.8594\n",
            "Epoch 132: saving model to /home/yunusdanabas/catkin_ws/src/hand_steer_sim/hand_steer_sim/model/static_mode/keypoint_classifier/keypoint_classifier.hdf5\n",
            "38/38 [==============================] - 0s 3ms/step - loss: 0.3852 - accuracy: 0.8585 - val_loss: 0.1253 - val_accuracy: 0.9719\n",
            "Epoch 133/1000\n",
            "29/38 [=====================>........] - ETA: 0s - loss: 0.3890 - accuracy: 0.8591\n",
            "Epoch 133: saving model to /home/yunusdanabas/catkin_ws/src/hand_steer_sim/hand_steer_sim/model/static_mode/keypoint_classifier/keypoint_classifier.hdf5\n",
            "38/38 [==============================] - 0s 3ms/step - loss: 0.3951 - accuracy: 0.8546 - val_loss: 0.1226 - val_accuracy: 0.9713\n",
            "Epoch 134/1000\n",
            "27/38 [====================>.........] - ETA: 0s - loss: 0.4148 - accuracy: 0.8487\n",
            "Epoch 134: saving model to /home/yunusdanabas/catkin_ws/src/hand_steer_sim/hand_steer_sim/model/static_mode/keypoint_classifier/keypoint_classifier.hdf5\n",
            "38/38 [==============================] - 0s 3ms/step - loss: 0.4067 - accuracy: 0.8502 - val_loss: 0.1281 - val_accuracy: 0.9682\n",
            "Epoch 135/1000\n",
            "30/38 [======================>.......] - ETA: 0s - loss: 0.3977 - accuracy: 0.8500\n",
            "Epoch 135: saving model to /home/yunusdanabas/catkin_ws/src/hand_steer_sim/hand_steer_sim/model/static_mode/keypoint_classifier/keypoint_classifier.hdf5\n",
            "38/38 [==============================] - 0s 3ms/step - loss: 0.3962 - accuracy: 0.8494 - val_loss: 0.1296 - val_accuracy: 0.9682\n",
            "Epoch 136/1000\n",
            "29/38 [=====================>........] - ETA: 0s - loss: 0.3863 - accuracy: 0.8602\n",
            "Epoch 136: saving model to /home/yunusdanabas/catkin_ws/src/hand_steer_sim/hand_steer_sim/model/static_mode/keypoint_classifier/keypoint_classifier.hdf5\n",
            "38/38 [==============================] - 0s 3ms/step - loss: 0.3994 - accuracy: 0.8538 - val_loss: 0.1269 - val_accuracy: 0.9719\n",
            "Epoch 137/1000\n",
            "29/38 [=====================>........] - ETA: 0s - loss: 0.4021 - accuracy: 0.8513\n",
            "Epoch 137: saving model to /home/yunusdanabas/catkin_ws/src/hand_steer_sim/hand_steer_sim/model/static_mode/keypoint_classifier/keypoint_classifier.hdf5\n",
            "38/38 [==============================] - 0s 3ms/step - loss: 0.3960 - accuracy: 0.8538 - val_loss: 0.1248 - val_accuracy: 0.9738\n",
            "Epoch 138/1000\n",
            "29/38 [=====================>........] - ETA: 0s - loss: 0.4062 - accuracy: 0.8526\n",
            "Epoch 138: saving model to /home/yunusdanabas/catkin_ws/src/hand_steer_sim/hand_steer_sim/model/static_mode/keypoint_classifier/keypoint_classifier.hdf5\n",
            "38/38 [==============================] - 0s 3ms/step - loss: 0.3984 - accuracy: 0.8569 - val_loss: 0.1270 - val_accuracy: 0.9719\n",
            "Epoch 139/1000\n",
            "30/38 [======================>.......] - ETA: 0s - loss: 0.3933 - accuracy: 0.8583\n",
            "Epoch 139: saving model to /home/yunusdanabas/catkin_ws/src/hand_steer_sim/hand_steer_sim/model/static_mode/keypoint_classifier/keypoint_classifier.hdf5\n",
            "38/38 [==============================] - 0s 3ms/step - loss: 0.3878 - accuracy: 0.8612 - val_loss: 0.1305 - val_accuracy: 0.9701\n",
            "Epoch 140/1000\n",
            "30/38 [======================>.......] - ETA: 0s - loss: 0.3912 - accuracy: 0.8562\n",
            "Epoch 140: saving model to /home/yunusdanabas/catkin_ws/src/hand_steer_sim/hand_steer_sim/model/static_mode/keypoint_classifier/keypoint_classifier.hdf5\n",
            "38/38 [==============================] - 0s 3ms/step - loss: 0.3975 - accuracy: 0.8550 - val_loss: 0.1227 - val_accuracy: 0.9719\n",
            "Epoch 141/1000\n",
            "30/38 [======================>.......] - ETA: 0s - loss: 0.3926 - accuracy: 0.8568\n",
            "Epoch 141: saving model to /home/yunusdanabas/catkin_ws/src/hand_steer_sim/hand_steer_sim/model/static_mode/keypoint_classifier/keypoint_classifier.hdf5\n",
            "38/38 [==============================] - 0s 3ms/step - loss: 0.3923 - accuracy: 0.8590 - val_loss: 0.1297 - val_accuracy: 0.9669\n",
            "Epoch 142/1000\n",
            "24/38 [=================>............] - ETA: 0s - loss: 0.3811 - accuracy: 0.8620\n",
            "Epoch 142: saving model to /home/yunusdanabas/catkin_ws/src/hand_steer_sim/hand_steer_sim/model/static_mode/keypoint_classifier/keypoint_classifier.hdf5\n",
            "38/38 [==============================] - 0s 4ms/step - loss: 0.3846 - accuracy: 0.8610 - val_loss: 0.1270 - val_accuracy: 0.9707\n",
            "Epoch 143/1000\n",
            "29/38 [=====================>........] - ETA: 0s - loss: 0.3924 - accuracy: 0.8578\n",
            "Epoch 143: saving model to /home/yunusdanabas/catkin_ws/src/hand_steer_sim/hand_steer_sim/model/static_mode/keypoint_classifier/keypoint_classifier.hdf5\n",
            "38/38 [==============================] - 0s 3ms/step - loss: 0.3890 - accuracy: 0.8585 - val_loss: 0.1277 - val_accuracy: 0.9663\n",
            "Epoch 144/1000\n",
            "30/38 [======================>.......] - ETA: 0s - loss: 0.3788 - accuracy: 0.8635\n",
            "Epoch 144: saving model to /home/yunusdanabas/catkin_ws/src/hand_steer_sim/hand_steer_sim/model/static_mode/keypoint_classifier/keypoint_classifier.hdf5\n",
            "38/38 [==============================] - 0s 3ms/step - loss: 0.3776 - accuracy: 0.8631 - val_loss: 0.1233 - val_accuracy: 0.9726\n",
            "Epoch 145/1000\n",
            "30/38 [======================>.......] - ETA: 0s - loss: 0.3796 - accuracy: 0.8630\n",
            "Epoch 145: saving model to /home/yunusdanabas/catkin_ws/src/hand_steer_sim/hand_steer_sim/model/static_mode/keypoint_classifier/keypoint_classifier.hdf5\n",
            "38/38 [==============================] - 0s 3ms/step - loss: 0.3817 - accuracy: 0.8615 - val_loss: 0.1239 - val_accuracy: 0.9738\n",
            "Epoch 146/1000\n",
            "30/38 [======================>.......] - ETA: 0s - loss: 0.3956 - accuracy: 0.8594\n",
            "Epoch 146: saving model to /home/yunusdanabas/catkin_ws/src/hand_steer_sim/hand_steer_sim/model/static_mode/keypoint_classifier/keypoint_classifier.hdf5\n",
            "38/38 [==============================] - 0s 3ms/step - loss: 0.3925 - accuracy: 0.8602 - val_loss: 0.1220 - val_accuracy: 0.9719\n",
            "Epoch 147/1000\n",
            "30/38 [======================>.......] - ETA: 0s - loss: 0.3893 - accuracy: 0.8630\n",
            "Epoch 147: saving model to /home/yunusdanabas/catkin_ws/src/hand_steer_sim/hand_steer_sim/model/static_mode/keypoint_classifier/keypoint_classifier.hdf5\n",
            "38/38 [==============================] - 0s 3ms/step - loss: 0.3886 - accuracy: 0.8621 - val_loss: 0.1269 - val_accuracy: 0.9701\n",
            "Epoch 148/1000\n",
            "30/38 [======================>.......] - ETA: 0s - loss: 0.4148 - accuracy: 0.8495\n",
            "Epoch 148: saving model to /home/yunusdanabas/catkin_ws/src/hand_steer_sim/hand_steer_sim/model/static_mode/keypoint_classifier/keypoint_classifier.hdf5\n",
            "38/38 [==============================] - 0s 3ms/step - loss: 0.4106 - accuracy: 0.8508 - val_loss: 0.1255 - val_accuracy: 0.9750\n",
            "Epoch 149/1000\n",
            "26/38 [===================>..........] - ETA: 0s - loss: 0.3817 - accuracy: 0.8633\n",
            "Epoch 149: saving model to /home/yunusdanabas/catkin_ws/src/hand_steer_sim/hand_steer_sim/model/static_mode/keypoint_classifier/keypoint_classifier.hdf5\n",
            "38/38 [==============================] - 0s 6ms/step - loss: 0.3871 - accuracy: 0.8639 - val_loss: 0.1342 - val_accuracy: 0.9657\n",
            "Epoch 150/1000\n",
            "29/38 [=====================>........] - ETA: 0s - loss: 0.3835 - accuracy: 0.8605\n",
            "Epoch 150: saving model to /home/yunusdanabas/catkin_ws/src/hand_steer_sim/hand_steer_sim/model/static_mode/keypoint_classifier/keypoint_classifier.hdf5\n",
            "38/38 [==============================] - 0s 3ms/step - loss: 0.3784 - accuracy: 0.8615 - val_loss: 0.1239 - val_accuracy: 0.9738\n",
            "Epoch 151/1000\n",
            "30/38 [======================>.......] - ETA: 0s - loss: 0.3687 - accuracy: 0.8646\n",
            "Epoch 151: saving model to /home/yunusdanabas/catkin_ws/src/hand_steer_sim/hand_steer_sim/model/static_mode/keypoint_classifier/keypoint_classifier.hdf5\n",
            "38/38 [==============================] - 0s 3ms/step - loss: 0.3726 - accuracy: 0.8615 - val_loss: 0.1232 - val_accuracy: 0.9701\n",
            "Epoch 152/1000\n",
            "27/38 [====================>.........] - ETA: 0s - loss: 0.3788 - accuracy: 0.8559\n",
            "Epoch 152: saving model to /home/yunusdanabas/catkin_ws/src/hand_steer_sim/hand_steer_sim/model/static_mode/keypoint_classifier/keypoint_classifier.hdf5\n",
            "38/38 [==============================] - 0s 3ms/step - loss: 0.3771 - accuracy: 0.8608 - val_loss: 0.1201 - val_accuracy: 0.9719\n",
            "Epoch 153/1000\n",
            "31/38 [=======================>......] - ETA: 0s - loss: 0.3955 - accuracy: 0.8508\n",
            "Epoch 153: saving model to /home/yunusdanabas/catkin_ws/src/hand_steer_sim/hand_steer_sim/model/static_mode/keypoint_classifier/keypoint_classifier.hdf5\n",
            "38/38 [==============================] - 0s 3ms/step - loss: 0.3928 - accuracy: 0.8515 - val_loss: 0.1216 - val_accuracy: 0.9726\n",
            "Epoch 154/1000\n",
            "29/38 [=====================>........] - ETA: 0s - loss: 0.3833 - accuracy: 0.8623\n",
            "Epoch 154: saving model to /home/yunusdanabas/catkin_ws/src/hand_steer_sim/hand_steer_sim/model/static_mode/keypoint_classifier/keypoint_classifier.hdf5\n",
            "38/38 [==============================] - 0s 3ms/step - loss: 0.3837 - accuracy: 0.8623 - val_loss: 0.1265 - val_accuracy: 0.9676\n",
            "Epoch 155/1000\n",
            "30/38 [======================>.......] - ETA: 0s - loss: 0.3973 - accuracy: 0.8562\n",
            "Epoch 155: saving model to /home/yunusdanabas/catkin_ws/src/hand_steer_sim/hand_steer_sim/model/static_mode/keypoint_classifier/keypoint_classifier.hdf5\n",
            "38/38 [==============================] - 0s 3ms/step - loss: 0.3995 - accuracy: 0.8565 - val_loss: 0.1235 - val_accuracy: 0.9713\n",
            "Epoch 156/1000\n",
            "29/38 [=====================>........] - ETA: 0s - loss: 0.3591 - accuracy: 0.8691\n",
            "Epoch 156: saving model to /home/yunusdanabas/catkin_ws/src/hand_steer_sim/hand_steer_sim/model/static_mode/keypoint_classifier/keypoint_classifier.hdf5\n",
            "38/38 [==============================] - 0s 3ms/step - loss: 0.3613 - accuracy: 0.8698 - val_loss: 0.1201 - val_accuracy: 0.9726\n",
            "Epoch 157/1000\n",
            "31/38 [=======================>......] - ETA: 0s - loss: 0.4017 - accuracy: 0.8601\n",
            "Epoch 157: saving model to /home/yunusdanabas/catkin_ws/src/hand_steer_sim/hand_steer_sim/model/static_mode/keypoint_classifier/keypoint_classifier.hdf5\n",
            "38/38 [==============================] - 0s 3ms/step - loss: 0.4059 - accuracy: 0.8583 - val_loss: 0.1249 - val_accuracy: 0.9651\n",
            "Epoch 158/1000\n",
            "31/38 [=======================>......] - ETA: 0s - loss: 0.3750 - accuracy: 0.8657\n",
            "Epoch 158: saving model to /home/yunusdanabas/catkin_ws/src/hand_steer_sim/hand_steer_sim/model/static_mode/keypoint_classifier/keypoint_classifier.hdf5\n",
            "38/38 [==============================] - 0s 3ms/step - loss: 0.3756 - accuracy: 0.8642 - val_loss: 0.1219 - val_accuracy: 0.9738\n",
            "Epoch 159/1000\n",
            "31/38 [=======================>......] - ETA: 0s - loss: 0.4021 - accuracy: 0.8581\n",
            "Epoch 159: saving model to /home/yunusdanabas/catkin_ws/src/hand_steer_sim/hand_steer_sim/model/static_mode/keypoint_classifier/keypoint_classifier.hdf5\n",
            "38/38 [==============================] - 0s 3ms/step - loss: 0.3989 - accuracy: 0.8581 - val_loss: 0.1233 - val_accuracy: 0.9713\n",
            "Epoch 160/1000\n",
            "29/38 [=====================>........] - ETA: 0s - loss: 0.3592 - accuracy: 0.8702\n",
            "Epoch 160: saving model to /home/yunusdanabas/catkin_ws/src/hand_steer_sim/hand_steer_sim/model/static_mode/keypoint_classifier/keypoint_classifier.hdf5\n",
            "38/38 [==============================] - 0s 3ms/step - loss: 0.3743 - accuracy: 0.8606 - val_loss: 0.1197 - val_accuracy: 0.9750\n",
            "Epoch 161/1000\n",
            "28/38 [=====================>........] - ETA: 0s - loss: 0.3954 - accuracy: 0.8566\n",
            "Epoch 161: saving model to /home/yunusdanabas/catkin_ws/src/hand_steer_sim/hand_steer_sim/model/static_mode/keypoint_classifier/keypoint_classifier.hdf5\n",
            "38/38 [==============================] - 0s 3ms/step - loss: 0.3917 - accuracy: 0.8554 - val_loss: 0.1250 - val_accuracy: 0.9719\n",
            "Epoch 162/1000\n",
            "30/38 [======================>.......] - ETA: 0s - loss: 0.3968 - accuracy: 0.8581\n",
            "Epoch 162: saving model to /home/yunusdanabas/catkin_ws/src/hand_steer_sim/hand_steer_sim/model/static_mode/keypoint_classifier/keypoint_classifier.hdf5\n",
            "38/38 [==============================] - 0s 3ms/step - loss: 0.3931 - accuracy: 0.8583 - val_loss: 0.1225 - val_accuracy: 0.9744\n",
            "Epoch 163/1000\n",
            "30/38 [======================>.......] - ETA: 0s - loss: 0.3888 - accuracy: 0.8549\n",
            "Epoch 163: saving model to /home/yunusdanabas/catkin_ws/src/hand_steer_sim/hand_steer_sim/model/static_mode/keypoint_classifier/keypoint_classifier.hdf5\n",
            "38/38 [==============================] - 0s 3ms/step - loss: 0.3870 - accuracy: 0.8569 - val_loss: 0.1230 - val_accuracy: 0.9757\n",
            "Epoch 164/1000\n",
            "30/38 [======================>.......] - ETA: 0s - loss: 0.3926 - accuracy: 0.8544\n",
            "Epoch 164: saving model to /home/yunusdanabas/catkin_ws/src/hand_steer_sim/hand_steer_sim/model/static_mode/keypoint_classifier/keypoint_classifier.hdf5\n",
            "38/38 [==============================] - 0s 3ms/step - loss: 0.3926 - accuracy: 0.8558 - val_loss: 0.1231 - val_accuracy: 0.9732\n",
            "Epoch 165/1000\n",
            "29/38 [=====================>........] - ETA: 0s - loss: 0.3836 - accuracy: 0.8634\n",
            "Epoch 165: saving model to /home/yunusdanabas/catkin_ws/src/hand_steer_sim/hand_steer_sim/model/static_mode/keypoint_classifier/keypoint_classifier.hdf5\n",
            "38/38 [==============================] - 0s 3ms/step - loss: 0.3796 - accuracy: 0.8650 - val_loss: 0.1223 - val_accuracy: 0.9738\n",
            "Epoch 166/1000\n",
            "29/38 [=====================>........] - ETA: 0s - loss: 0.3948 - accuracy: 0.8545\n",
            "Epoch 166: saving model to /home/yunusdanabas/catkin_ws/src/hand_steer_sim/hand_steer_sim/model/static_mode/keypoint_classifier/keypoint_classifier.hdf5\n",
            "38/38 [==============================] - 0s 3ms/step - loss: 0.3924 - accuracy: 0.8567 - val_loss: 0.1258 - val_accuracy: 0.9738\n",
            "Epoch 167/1000\n",
            "30/38 [======================>.......] - ETA: 0s - loss: 0.3956 - accuracy: 0.8573\n",
            "Epoch 167: saving model to /home/yunusdanabas/catkin_ws/src/hand_steer_sim/hand_steer_sim/model/static_mode/keypoint_classifier/keypoint_classifier.hdf5\n",
            "38/38 [==============================] - 0s 3ms/step - loss: 0.3959 - accuracy: 0.8569 - val_loss: 0.1233 - val_accuracy: 0.9713\n",
            "Epoch 168/1000\n",
            "28/38 [=====================>........] - ETA: 0s - loss: 0.3541 - accuracy: 0.8708\n",
            "Epoch 168: saving model to /home/yunusdanabas/catkin_ws/src/hand_steer_sim/hand_steer_sim/model/static_mode/keypoint_classifier/keypoint_classifier.hdf5\n",
            "38/38 [==============================] - 0s 3ms/step - loss: 0.3579 - accuracy: 0.8689 - val_loss: 0.1220 - val_accuracy: 0.9763\n",
            "Epoch 169/1000\n",
            "36/38 [===========================>..] - ETA: 0s - loss: 0.3686 - accuracy: 0.8648\n",
            "Epoch 169: saving model to /home/yunusdanabas/catkin_ws/src/hand_steer_sim/hand_steer_sim/model/static_mode/keypoint_classifier/keypoint_classifier.hdf5\n",
            "38/38 [==============================] - 0s 7ms/step - loss: 0.3719 - accuracy: 0.8629 - val_loss: 0.1225 - val_accuracy: 0.9713\n",
            "Epoch 170/1000\n",
            "28/38 [=====================>........] - ETA: 0s - loss: 0.3927 - accuracy: 0.8585\n",
            "Epoch 170: saving model to /home/yunusdanabas/catkin_ws/src/hand_steer_sim/hand_steer_sim/model/static_mode/keypoint_classifier/keypoint_classifier.hdf5\n",
            "38/38 [==============================] - 0s 3ms/step - loss: 0.3862 - accuracy: 0.8590 - val_loss: 0.1181 - val_accuracy: 0.9769\n",
            "Epoch 171/1000\n",
            "30/38 [======================>.......] - ETA: 0s - loss: 0.3842 - accuracy: 0.8607\n",
            "Epoch 171: saving model to /home/yunusdanabas/catkin_ws/src/hand_steer_sim/hand_steer_sim/model/static_mode/keypoint_classifier/keypoint_classifier.hdf5\n",
            "38/38 [==============================] - 0s 3ms/step - loss: 0.3858 - accuracy: 0.8581 - val_loss: 0.1259 - val_accuracy: 0.9726\n",
            "Epoch 172/1000\n",
            "29/38 [=====================>........] - ETA: 0s - loss: 0.3896 - accuracy: 0.8561\n",
            "Epoch 172: saving model to /home/yunusdanabas/catkin_ws/src/hand_steer_sim/hand_steer_sim/model/static_mode/keypoint_classifier/keypoint_classifier.hdf5\n",
            "38/38 [==============================] - 0s 3ms/step - loss: 0.3848 - accuracy: 0.8598 - val_loss: 0.1219 - val_accuracy: 0.9713\n",
            "Epoch 173/1000\n",
            "29/38 [=====================>........] - ETA: 0s - loss: 0.3981 - accuracy: 0.8567\n",
            "Epoch 173: saving model to /home/yunusdanabas/catkin_ws/src/hand_steer_sim/hand_steer_sim/model/static_mode/keypoint_classifier/keypoint_classifier.hdf5\n",
            "38/38 [==============================] - 0s 3ms/step - loss: 0.3939 - accuracy: 0.8563 - val_loss: 0.1298 - val_accuracy: 0.9694\n",
            "Epoch 174/1000\n",
            "28/38 [=====================>........] - ETA: 0s - loss: 0.3764 - accuracy: 0.8605\n",
            "Epoch 174: saving model to /home/yunusdanabas/catkin_ws/src/hand_steer_sim/hand_steer_sim/model/static_mode/keypoint_classifier/keypoint_classifier.hdf5\n",
            "38/38 [==============================] - 0s 3ms/step - loss: 0.3848 - accuracy: 0.8560 - val_loss: 0.1229 - val_accuracy: 0.9719\n",
            "Epoch 175/1000\n",
            "30/38 [======================>.......] - ETA: 0s - loss: 0.3992 - accuracy: 0.8544\n",
            "Epoch 175: saving model to /home/yunusdanabas/catkin_ws/src/hand_steer_sim/hand_steer_sim/model/static_mode/keypoint_classifier/keypoint_classifier.hdf5\n",
            "38/38 [==============================] - 0s 3ms/step - loss: 0.3959 - accuracy: 0.8554 - val_loss: 0.1252 - val_accuracy: 0.9732\n",
            "Epoch 176/1000\n",
            "32/38 [========================>.....] - ETA: 0s - loss: 0.3558 - accuracy: 0.8679\n",
            "Epoch 176: saving model to /home/yunusdanabas/catkin_ws/src/hand_steer_sim/hand_steer_sim/model/static_mode/keypoint_classifier/keypoint_classifier.hdf5\n",
            "38/38 [==============================] - 0s 3ms/step - loss: 0.3588 - accuracy: 0.8664 - val_loss: 0.1169 - val_accuracy: 0.9757\n",
            "Epoch 177/1000\n",
            "29/38 [=====================>........] - ETA: 0s - loss: 0.3903 - accuracy: 0.8610\n",
            "Epoch 177: saving model to /home/yunusdanabas/catkin_ws/src/hand_steer_sim/hand_steer_sim/model/static_mode/keypoint_classifier/keypoint_classifier.hdf5\n",
            "38/38 [==============================] - 0s 3ms/step - loss: 0.3838 - accuracy: 0.8621 - val_loss: 0.1196 - val_accuracy: 0.9750\n",
            "Epoch 178/1000\n",
            "25/38 [==================>...........] - ETA: 0s - loss: 0.3735 - accuracy: 0.8653\n",
            "Epoch 178: saving model to /home/yunusdanabas/catkin_ws/src/hand_steer_sim/hand_steer_sim/model/static_mode/keypoint_classifier/keypoint_classifier.hdf5\n",
            "38/38 [==============================] - 0s 3ms/step - loss: 0.3830 - accuracy: 0.8625 - val_loss: 0.1226 - val_accuracy: 0.9775\n",
            "Epoch 179/1000\n",
            "30/38 [======================>.......] - ETA: 0s - loss: 0.3913 - accuracy: 0.8560\n",
            "Epoch 179: saving model to /home/yunusdanabas/catkin_ws/src/hand_steer_sim/hand_steer_sim/model/static_mode/keypoint_classifier/keypoint_classifier.hdf5\n",
            "38/38 [==============================] - 0s 3ms/step - loss: 0.3915 - accuracy: 0.8554 - val_loss: 0.1235 - val_accuracy: 0.9719\n",
            "Epoch 180/1000\n",
            "30/38 [======================>.......] - ETA: 0s - loss: 0.3658 - accuracy: 0.8638\n",
            "Epoch 180: saving model to /home/yunusdanabas/catkin_ws/src/hand_steer_sim/hand_steer_sim/model/static_mode/keypoint_classifier/keypoint_classifier.hdf5\n",
            "38/38 [==============================] - 0s 3ms/step - loss: 0.3708 - accuracy: 0.8631 - val_loss: 0.1176 - val_accuracy: 0.9775\n",
            "Epoch 181/1000\n",
            "30/38 [======================>.......] - ETA: 0s - loss: 0.3843 - accuracy: 0.8596\n",
            "Epoch 181: saving model to /home/yunusdanabas/catkin_ws/src/hand_steer_sim/hand_steer_sim/model/static_mode/keypoint_classifier/keypoint_classifier.hdf5\n",
            "38/38 [==============================] - 0s 3ms/step - loss: 0.3828 - accuracy: 0.8587 - val_loss: 0.1190 - val_accuracy: 0.9763\n",
            "Epoch 182/1000\n",
            "29/38 [=====================>........] - ETA: 0s - loss: 0.3728 - accuracy: 0.8664\n",
            "Epoch 182: saving model to /home/yunusdanabas/catkin_ws/src/hand_steer_sim/hand_steer_sim/model/static_mode/keypoint_classifier/keypoint_classifier.hdf5\n",
            "38/38 [==============================] - 0s 3ms/step - loss: 0.3774 - accuracy: 0.8619 - val_loss: 0.1177 - val_accuracy: 0.9757\n",
            "Epoch 183/1000\n",
            "29/38 [=====================>........] - ETA: 0s - loss: 0.3627 - accuracy: 0.8653\n",
            "Epoch 183: saving model to /home/yunusdanabas/catkin_ws/src/hand_steer_sim/hand_steer_sim/model/static_mode/keypoint_classifier/keypoint_classifier.hdf5\n",
            "38/38 [==============================] - 0s 3ms/step - loss: 0.3669 - accuracy: 0.8667 - val_loss: 0.1193 - val_accuracy: 0.9757\n",
            "Epoch 184/1000\n",
            "29/38 [=====================>........] - ETA: 0s - loss: 0.3836 - accuracy: 0.8605\n",
            "Epoch 184: saving model to /home/yunusdanabas/catkin_ws/src/hand_steer_sim/hand_steer_sim/model/static_mode/keypoint_classifier/keypoint_classifier.hdf5\n",
            "38/38 [==============================] - 0s 3ms/step - loss: 0.3800 - accuracy: 0.8627 - val_loss: 0.1219 - val_accuracy: 0.9688\n",
            "Epoch 185/1000\n",
            "30/38 [======================>.......] - ETA: 0s - loss: 0.3775 - accuracy: 0.8677\n",
            "Epoch 185: saving model to /home/yunusdanabas/catkin_ws/src/hand_steer_sim/hand_steer_sim/model/static_mode/keypoint_classifier/keypoint_classifier.hdf5\n",
            "38/38 [==============================] - 0s 3ms/step - loss: 0.3803 - accuracy: 0.8675 - val_loss: 0.1210 - val_accuracy: 0.9750\n",
            "Epoch 186/1000\n",
            "20/38 [==============>...............] - ETA: 0s - loss: 0.3837 - accuracy: 0.8590\n",
            "Epoch 186: saving model to /home/yunusdanabas/catkin_ws/src/hand_steer_sim/hand_steer_sim/model/static_mode/keypoint_classifier/keypoint_classifier.hdf5\n",
            "38/38 [==============================] - 0s 4ms/step - loss: 0.3926 - accuracy: 0.8550 - val_loss: 0.1199 - val_accuracy: 0.9726\n",
            "Epoch 187/1000\n",
            "28/38 [=====================>........] - ETA: 0s - loss: 0.3692 - accuracy: 0.8725\n",
            "Epoch 187: saving model to /home/yunusdanabas/catkin_ws/src/hand_steer_sim/hand_steer_sim/model/static_mode/keypoint_classifier/keypoint_classifier.hdf5\n",
            "38/38 [==============================] - 0s 5ms/step - loss: 0.3766 - accuracy: 0.8660 - val_loss: 0.1187 - val_accuracy: 0.9744\n",
            "Epoch 188/1000\n",
            "17/38 [============>.................] - ETA: 0s - loss: 0.3840 - accuracy: 0.8566\n",
            "Epoch 188: saving model to /home/yunusdanabas/catkin_ws/src/hand_steer_sim/hand_steer_sim/model/static_mode/keypoint_classifier/keypoint_classifier.hdf5\n",
            "38/38 [==============================] - 0s 4ms/step - loss: 0.4001 - accuracy: 0.8540 - val_loss: 0.1233 - val_accuracy: 0.9744\n",
            "Epoch 189/1000\n",
            "30/38 [======================>.......] - ETA: 0s - loss: 0.3638 - accuracy: 0.8656\n",
            "Epoch 189: saving model to /home/yunusdanabas/catkin_ws/src/hand_steer_sim/hand_steer_sim/model/static_mode/keypoint_classifier/keypoint_classifier.hdf5\n",
            "38/38 [==============================] - 0s 3ms/step - loss: 0.3654 - accuracy: 0.8664 - val_loss: 0.1231 - val_accuracy: 0.9701\n",
            "Epoch 190/1000\n",
            "28/38 [=====================>........] - ETA: 0s - loss: 0.3819 - accuracy: 0.8641\n",
            "Epoch 190: saving model to /home/yunusdanabas/catkin_ws/src/hand_steer_sim/hand_steer_sim/model/static_mode/keypoint_classifier/keypoint_classifier.hdf5\n",
            "38/38 [==============================] - 0s 3ms/step - loss: 0.3788 - accuracy: 0.8642 - val_loss: 0.1231 - val_accuracy: 0.9713\n",
            "Epoch 191/1000\n",
            "31/38 [=======================>......] - ETA: 0s - loss: 0.3975 - accuracy: 0.8591\n",
            "Epoch 191: saving model to /home/yunusdanabas/catkin_ws/src/hand_steer_sim/hand_steer_sim/model/static_mode/keypoint_classifier/keypoint_classifier.hdf5\n",
            "38/38 [==============================] - 0s 3ms/step - loss: 0.3919 - accuracy: 0.8625 - val_loss: 0.1216 - val_accuracy: 0.9750\n",
            "Epoch 192/1000\n",
            "29/38 [=====================>........] - ETA: 0s - loss: 0.3812 - accuracy: 0.8553\n",
            "Epoch 192: saving model to /home/yunusdanabas/catkin_ws/src/hand_steer_sim/hand_steer_sim/model/static_mode/keypoint_classifier/keypoint_classifier.hdf5\n",
            "38/38 [==============================] - 0s 3ms/step - loss: 0.3709 - accuracy: 0.8598 - val_loss: 0.1214 - val_accuracy: 0.9750\n",
            "Epoch 193/1000\n",
            "29/38 [=====================>........] - ETA: 0s - loss: 0.3843 - accuracy: 0.8594\n",
            "Epoch 193: saving model to /home/yunusdanabas/catkin_ws/src/hand_steer_sim/hand_steer_sim/model/static_mode/keypoint_classifier/keypoint_classifier.hdf5\n",
            "38/38 [==============================] - 0s 3ms/step - loss: 0.3869 - accuracy: 0.8602 - val_loss: 0.1225 - val_accuracy: 0.9750\n",
            "Epoch 194/1000\n",
            "23/38 [=================>............] - ETA: 0s - loss: 0.3799 - accuracy: 0.8658\n",
            "Epoch 194: saving model to /home/yunusdanabas/catkin_ws/src/hand_steer_sim/hand_steer_sim/model/static_mode/keypoint_classifier/keypoint_classifier.hdf5\n",
            "38/38 [==============================] - 0s 4ms/step - loss: 0.3858 - accuracy: 0.8658 - val_loss: 0.1235 - val_accuracy: 0.9713\n",
            "Epoch 195/1000\n",
            "30/38 [======================>.......] - ETA: 0s - loss: 0.3933 - accuracy: 0.8560\n",
            "Epoch 195: saving model to /home/yunusdanabas/catkin_ws/src/hand_steer_sim/hand_steer_sim/model/static_mode/keypoint_classifier/keypoint_classifier.hdf5\n",
            "38/38 [==============================] - 0s 3ms/step - loss: 0.3821 - accuracy: 0.8604 - val_loss: 0.1203 - val_accuracy: 0.9763\n",
            "Epoch 196/1000\n",
            "29/38 [=====================>........] - ETA: 0s - loss: 0.3862 - accuracy: 0.8567\n",
            "Epoch 196: saving model to /home/yunusdanabas/catkin_ws/src/hand_steer_sim/hand_steer_sim/model/static_mode/keypoint_classifier/keypoint_classifier.hdf5\n",
            "38/38 [==============================] - 0s 3ms/step - loss: 0.3854 - accuracy: 0.8598 - val_loss: 0.1217 - val_accuracy: 0.9738\n",
            "Epoch 196: early stopping\n"
          ]
        },
        {
          "data": {
            "text/plain": [
              "<keras.src.callbacks.History at 0x7fa888202850>"
            ]
          },
          "execution_count": 12,
          "metadata": {},
          "output_type": "execute_result"
        }
      ],
      "source": [
        "model.fit(\n",
        "    X_train,\n",
        "    y_train,\n",
        "    epochs=1000,\n",
        "    batch_size=128,\n",
        "    validation_data=(X_test, y_test),\n",
        "    callbacks=[cp_callback, es_callback]\n",
        ")"
      ]
    },
    {
      "cell_type": "code",
      "execution_count": 13,
      "metadata": {
        "colab": {
          "base_uri": "https://localhost:8080/"
        },
        "id": "pxvb2Y299hE3",
        "outputId": "59eb3185-2e37-4b9e-bc9d-ab1b8ac29b7f"
      },
      "outputs": [
        {
          "name": "stdout",
          "output_type": "stream",
          "text": [
            "13/13 [==============================] - 0s 1ms/step - loss: 0.1217 - accuracy: 0.9738\n"
          ]
        }
      ],
      "source": [
        "# Model evaluation\n",
        "val_loss, val_acc = model.evaluate(X_test, y_test, batch_size=128)"
      ]
    },
    {
      "cell_type": "code",
      "execution_count": 14,
      "metadata": {
        "id": "RBkmDeUW9hE4"
      },
      "outputs": [],
      "source": [
        "# Loading the saved model\n",
        "model = tf.keras.models.load_model(model_save_path)"
      ]
    },
    {
      "cell_type": "code",
      "execution_count": 15,
      "metadata": {
        "colab": {
          "base_uri": "https://localhost:8080/"
        },
        "id": "tFz9Tb0I9hE4",
        "outputId": "1c3b3528-54ae-4ee2-ab04-77429211cbef"
      },
      "outputs": [
        {
          "name": "stdout",
          "output_type": "stream",
          "text": [
            "1/1 [==============================] - 0s 73ms/step\n",
            "[2.0314327e-03 1.4105622e-01 2.4950262e-13 2.9970701e-10 8.5691231e-01\n",
            " 1.4813401e-08]\n",
            "4\n"
          ]
        }
      ],
      "source": [
        "# Inference test\n",
        "predict_result = model.predict(np.array([X_test[0]]))\n",
        "print(np.squeeze(predict_result))\n",
        "print(np.argmax(np.squeeze(predict_result)))"
      ]
    },
    {
      "cell_type": "markdown",
      "metadata": {
        "id": "S3U4yNWx9hE4"
      },
      "source": [
        "# Confusion matrix"
      ]
    },
    {
      "cell_type": "code",
      "execution_count": 16,
      "metadata": {
        "colab": {
          "base_uri": "https://localhost:8080/",
          "height": 582
        },
        "id": "AP1V6SCk9hE5",
        "outputId": "08e41a80-7a4a-4619-8125-ecc371368d19"
      },
      "outputs": [
        {
          "name": "stdout",
          "output_type": "stream",
          "text": [
            "51/51 [==============================] - 0s 814us/step\n"
          ]
        },
        {
          "data": {
            "image/png": "[encoded data removed]",
            "text/plain": [
              "<Figure size 700x600 with 2 Axes>"
            ]
          },
          "metadata": {},
          "output_type": "display_data"
        },
        {
          "name": "stdout",
          "output_type": "stream",
          "text": [
            "Classification Report\n",
            "              precision    recall  f1-score   support\n",
            "\n",
            "           0       0.99      0.99      0.99       415\n",
            "           1       0.99      0.92      0.95       395\n",
            "           2       0.96      1.00      0.98       176\n",
            "           3       0.98      0.99      0.99       261\n",
            "           4       0.93      1.00      0.96       175\n",
            "           5       0.96      0.99      0.98       181\n",
            "\n",
            "    accuracy                           0.97      1603\n",
            "   macro avg       0.97      0.98      0.97      1603\n",
            "weighted avg       0.97      0.97      0.97      1603\n",
            "\n"
          ]
        }
      ],
      "source": [
        "import pandas as pd\n",
        "import seaborn as sns\n",
        "import matplotlib.pyplot as plt\n",
        "from sklearn.metrics import confusion_matrix, classification_report\n",
        "\n",
        "def print_confusion_matrix(y_true, y_pred, report=True):\n",
        "    labels = sorted(list(set(y_true)))\n",
        "    cmx_data = confusion_matrix(y_true, y_pred, labels=labels)\n",
        "    \n",
        "    df_cmx = pd.DataFrame(cmx_data, index=labels, columns=labels)\n",
        " \n",
        "    fig, ax = plt.subplots(figsize=(7, 6))\n",
        "    sns.heatmap(df_cmx, annot=True, fmt='g' ,square=False)\n",
        "    ax.set_ylim(len(set(y_true)), 0)\n",
        "    plt.show()\n",
        "    \n",
        "    if report:\n",
        "        print('Classification Report')\n",
        "        print(classification_report(y_test, y_pred))\n",
        "\n",
        "Y_pred = model.predict(X_test)\n",
        "y_pred = np.argmax(Y_pred, axis=1)\n",
        "\n",
        "print_confusion_matrix(y_test, y_pred)"
      ]
    },
    {
      "cell_type": "markdown",
      "metadata": {
        "id": "FNP6aqzc9hE5"
      },
      "source": [
        "# Convert to model for Tensorflow-Lite"
      ]
    },
    {
      "cell_type": "code",
      "execution_count": 17,
      "metadata": {
        "id": "ODjnYyld9hE6"
      },
      "outputs": [
        {
          "name": "stderr",
          "output_type": "stream",
          "text": [
            "/home/yunusdanabas/mambaforge/envs/ros_env/lib/python3.8/site-packages/keras/src/engine/training.py:3000: UserWarning: You are saving your model as an HDF5 file via `model.save()`. This file format is considered legacy. We recommend using instead the native Keras format, e.g. `model.save('my_model.keras')`.\n",
            "  saving_api.save_model(\n"
          ]
        }
      ],
      "source": [
        "# Save as a model dedicated to inference\n",
        "model.save(model_save_path, include_optimizer=False)"
      ]
    },
    {
      "cell_type": "code",
      "execution_count": 18,
      "metadata": {
        "colab": {
          "base_uri": "https://localhost:8080/"
        },
        "id": "zRfuK8Y59hE6",
        "outputId": "a4ca585c-b5d5-4244-8291-8674063209bb"
      },
      "outputs": [
        {
          "name": "stdout",
          "output_type": "stream",
          "text": [
            "INFO:tensorflow:Assets written to: /tmp/tmpvfv6tyjx/assets\n"
          ]
        },
        {
          "name": "stderr",
          "output_type": "stream",
          "text": [
            "INFO:tensorflow:Assets written to: /tmp/tmpvfv6tyjx/assets\n",
            "2025-04-26 21:24:43.113293: W tensorflow/compiler/mlir/lite/python/tf_tfl_flatbuffer_helpers.cc:364] Ignored output_format.\n",
            "2025-04-26 21:24:43.113323: W tensorflow/compiler/mlir/lite/python/tf_tfl_flatbuffer_helpers.cc:367] Ignored drop_control_dependency.\n",
            "2025-04-26 21:24:43.113668: I tensorflow/cc/saved_model/reader.cc:45] Reading SavedModel from: /tmp/tmpvfv6tyjx\n",
            "2025-04-26 21:24:43.114827: I tensorflow/cc/saved_model/reader.cc:91] Reading meta graph with tags { serve }\n",
            "2025-04-26 21:24:43.114844: I tensorflow/cc/saved_model/reader.cc:132] Reading SavedModel debug info (if present) from: /tmp/tmpvfv6tyjx\n",
            "2025-04-26 21:24:43.118902: I tensorflow/compiler/mlir/mlir_graph_optimization_pass.cc:375] MLIR V1 optimization pass is not enabled\n",
            "2025-04-26 21:24:43.120047: I tensorflow/cc/saved_model/loader.cc:231] Restoring SavedModel bundle.\n",
            "2025-04-26 21:24:43.162885: I tensorflow/cc/saved_model/loader.cc:215] Running initialization op on SavedModel bundle at path: /tmp/tmpvfv6tyjx\n",
            "2025-04-26 21:24:43.176734: I tensorflow/cc/saved_model/loader.cc:314] SavedModel load for tags { serve }; Status: success: OK. Took 63066 microseconds.\n",
            "2025-04-26 21:24:43.190244: I tensorflow/compiler/mlir/tensorflow/utils/dump_mlir_util.cc:255] disabling MLIR crash reproducer, set env var `MLIR_CRASH_REPRODUCER_DIRECTORY` to enable.\n"
          ]
        },
        {
          "data": {
            "text/plain": [
              "6632"
            ]
          },
          "execution_count": 18,
          "metadata": {},
          "output_type": "execute_result"
        }
      ],
      "source": [
        "# Transform model (quantization)\n",
        "\n",
        "converter = tf.lite.TFLiteConverter.from_keras_model(model)\n",
        "converter.optimizations = [tf.lite.Optimize.DEFAULT]\n",
        "tflite_quantized_model = converter.convert()\n",
        "\n",
        "open(tflite_save_path, 'wb').write(tflite_quantized_model)"
      ]
    },
    {
      "cell_type": "markdown",
      "metadata": {
        "id": "CHBPBXdx9hE6"
      },
      "source": [
        "# Inference test"
      ]
    },
    {
      "cell_type": "code",
      "execution_count": 19,
      "metadata": {
        "id": "mGAzLocO9hE7"
      },
      "outputs": [
        {
          "name": "stderr",
          "output_type": "stream",
          "text": [
            "INFO: Created TensorFlow Lite XNNPACK delegate for CPU.\n"
          ]
        }
      ],
      "source": [
        "interpreter = tf.lite.Interpreter(model_path=tflite_save_path)\n",
        "interpreter.allocate_tensors()"
      ]
    },
    {
      "cell_type": "code",
      "execution_count": 20,
      "metadata": {
        "id": "oQuDK8YS9hE7"
      },
      "outputs": [],
      "source": [
        "# Get I / O tensor\n",
        "input_details = interpreter.get_input_details()\n",
        "output_details = interpreter.get_output_details()"
      ]
    },
    {
      "cell_type": "code",
      "execution_count": 21,
      "metadata": {
        "id": "2_ixAf_l9hE7"
      },
      "outputs": [],
      "source": [
        "interpreter.set_tensor(input_details[0]['index'], np.array([X_test[0]]))"
      ]
    },
    {
      "cell_type": "code",
      "execution_count": 22,
      "metadata": {
        "colab": {
          "base_uri": "https://localhost:8080/"
        },
        "id": "s4FoAnuc9hE7",
        "outputId": "91f18257-8d8b-4ef3-c558-e9b5f94fabbf",
        "scrolled": true
      },
      "outputs": [
        {
          "name": "stdout",
          "output_type": "stream",
          "text": [
            "CPU times: user 77 µs, sys: 7 µs, total: 84 µs\n",
            "Wall time: 81.3 µs\n"
          ]
        }
      ],
      "source": [
        "%%time\n",
        "# Inference implementation\n",
        "interpreter.invoke()\n",
        "tflite_results = interpreter.get_tensor(output_details[0]['index'])"
      ]
    },
    {
      "cell_type": "code",
      "execution_count": 23,
      "metadata": {
        "colab": {
          "base_uri": "https://localhost:8080/"
        },
        "id": "vONjp19J9hE8",
        "outputId": "77205e24-fd00-42c4-f7b6-e06e527c2cba"
      },
      "outputs": [
        {
          "name": "stdout",
          "output_type": "stream",
          "text": [
            "[2.0314311e-03 1.4105619e-01 2.4950268e-13 2.9970709e-10 8.5691243e-01\n",
            " 1.4813401e-08]\n",
            "4\n"
          ]
        }
      ],
      "source": [
        "print(np.squeeze(tflite_results))\n",
        "print(np.argmax(np.squeeze(tflite_results)))"
      ]
    }
  ],
  "metadata": {
    "accelerator": "GPU",
    "colab": {
      "collapsed_sections": [],
      "name": "keypoint_classification_EN.ipynb",
      "provenance": [],
      "toc_visible": true
    },
    "kernelspec": {
      "display_name": "ros_env",
      "language": "python",
      "name": "python3"
    },
    "language_info": {
      "codemirror_mode": {
        "name": "ipython",
        "version": 3
      },
      "file_extension": ".py",
      "mimetype": "text/x-python",
      "name": "python",
      "nbconvert_exporter": "python",
      "pygments_lexer": "ipython3",
      "version": "3.8.20"
    }
  },
  "nbformat": 4,
  "nbformat_minor": 0
}
